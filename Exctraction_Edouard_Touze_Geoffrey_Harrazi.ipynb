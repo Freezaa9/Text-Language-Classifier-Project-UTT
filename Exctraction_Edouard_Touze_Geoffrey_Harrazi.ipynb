{
  "nbformat": 4,
  "nbformat_minor": 0,
  "metadata": {
    "kernelspec": {
      "display_name": "Python 3",
      "language": "python",
      "name": "python3"
    },
    "language_info": {
      "codemirror_mode": {
        "name": "ipython",
        "version": 3
      },
      "file_extension": ".py",
      "mimetype": "text/x-python",
      "name": "python",
      "nbconvert_exporter": "python",
      "pygments_lexer": "ipython3",
      "version": "3.8.5"
    },
    "colab": {
      "name": "Exctraction-Copy1.ipynb",
      "provenance": [],
      "toc_visible": true
    }
  },
  "cells": [
    {
      "cell_type": "markdown",
      "metadata": {
        "id": "fINq1FYAg4w-"
      },
      "source": [
        "# Projet UTT - MS-EBAM - ARI2 "
      ]
    },
    {
      "cell_type": "markdown",
      "metadata": {
        "id": "L1_65v8Ng4w-"
      },
      "source": [
        "\r\n",
        "# Introduction \r\n",
        "### **Edouard Touzé & Geoffrey Harrazi**\r\n",
        "\r\n",
        "Nous allons voir dans ce projet comment classer différentes langue en faisant de la classification binaire à partir des modèle Lasso, Ridge et SVM. Nous allons comparer quatre langues: Le Fraçais, l'anglais, l'allemand et l'espagnol. \r\n",
        "\r\n",
        "Le code en introduction comprend les imports des modules que nous allons utiliser, le code qui permet de créer les fichier que nous allons utiliser pour importer les données ainsi que les fonctions que nous allons utiliser tout au long du projet afin de faire notre analyse. "
      ]
    },
    {
      "cell_type": "markdown",
      "metadata": {
        "id": "L-tCxml7hQzG"
      },
      "source": [
        "## Import des modules"
      ]
    },
    {
      "cell_type": "code",
      "metadata": {
        "id": "iTVXKERKg4w_"
      },
      "source": [
        "#Import\n",
        "import sys, os\n",
        "import numpy as np\n",
        "import string\n",
        "from sklearn.model_selection import train_test_split, KFold, RandomizedSearchCV, GridSearchCV, cross_val_score, cross_validate \n",
        "from sklearn import metrics\n",
        "\n",
        "#Model\n",
        "from sklearn.linear_model import RidgeClassifier, Lasso\n",
        "from sklearn.svm import SVC \n",
        "from sklearn.tree import DecisionTreeClassifier\n",
        "\n",
        "#Vizualisation\n",
        "#%matplotlib notebook \n",
        "import matplotlib.pyplot as plt\n",
        "#plt.rcParams.update({'figure.max_open_warning': 0})\n",
        "import time\n",
        "\n",
        "# 3D visualization\n",
        "import pylab\n",
        "from mpl_toolkits.mplot3d import Axes3D\n",
        "from matplotlib import pyplot\n",
        "\n",
        "#PCA\n",
        "from sklearn.decomposition import PCA\n",
        "from sklearn.decomposition import KernelPCA\n",
        "\n",
        "\n",
        "#Timer\n",
        "import timeit\n",
        "\n"
      ],
      "execution_count": 2,
      "outputs": []
    },
    {
      "cell_type": "markdown",
      "metadata": {
        "id": "RtFkOI3FhaAc"
      },
      "source": [
        "## Création des fichiers"
      ]
    },
    {
      "cell_type": "markdown",
      "metadata": {
        "id": "mh3hrlxgg4w3"
      },
      "source": [
        "Cette première cellule vous présente la manière avec laquelle j'ai obtenu les features/caractéristiques à partir des jeux de données de \"textes\"\n",
        "Pour obtenir les textes (et les \"filtrer\") j'ai utiliser le script ./textDatasets/conversion.sh (qui prends, par exemple les fichiers FR_* les concatene, supprime les accents (en gardant les caracteres sans accents) et enfin transforme en minuscules).\n",
        "J'ai utilisé les livres \"open data\" de la base du site Guttenberg Project (qui archive énormément de livres en texte, \"txt\" simples\", tombés dans le domaine publique)."
      ]
    },
    {
      "cell_type": "code",
      "metadata": {
        "id": "INqHwy8GhXX8"
      },
      "source": [
        "import numpy as np\r\n",
        "import string\r\n",
        "BlockSz=100\r\n",
        "\r\n",
        "# On procede de la même façon pour les differents languages\r\n",
        "# Ouverture du fichier texte contenant les caracteres alphabetiques \"brutes\"\r\n",
        "textGERMAN = open('/content/GERMAN')\r\n",
        "# Lecture\r\n",
        "DE=textGERMAN.read()\r\n",
        "textGERMAN.close()\r\n",
        "# Calcule du nombre de blocks (arrondi par defaut) de BlockSz caracteres\r\n",
        "NbBlock=int(np.floor(len(DE)/BlockSz))\r\n",
        "# Creation des tableaux de donnees textuelles et de features\r\n",
        "DataDE=[]\r\n",
        "FeaDE =[]\r\n",
        "# Pour tous les indices de blocks ...\r\n",
        "for index in range(NbBlock):\r\n",
        "    # Exctraction des donnees texte du block\r\n",
        "    DataDE.append(DE[index*BlockSz:(index+1)*BlockSz])\r\n",
        "    # Comptage de chacun des caracteres\r\n",
        "    countDE=[]\r\n",
        "    for letter in string.ascii_lowercase:\r\n",
        "        countDE.append(DataDE[index].count(letter))\r\n",
        "    # Comptage de toutes les 26**2 paires de caracteres possibles\r\n",
        "    for letter1 in string.ascii_lowercase:\r\n",
        "        for letter2 in string.ascii_lowercase:\r\n",
        "            countDE.append(DataDE[index].count(letter1+letter2))\r\n",
        "    # Une fois le vecteur de décompte obtenu  .... on ajoute ce vecteur (contenant tous les decomptes) au tableaux des features\r\n",
        "    FeaDE.append(countDE)\r\n",
        "\r\n",
        "# On procede de la même façon pour les differents languages ....\r\n",
        "textFRENCH = open('/content/FRENCH')\r\n",
        "FR=textFRENCH.read()\r\n",
        "textFRENCH.close()\r\n",
        "NbBlock=int(np.floor(len(FR)/BlockSz))\r\n",
        "DataFR=[]\r\n",
        "FeaFR =[]\r\n",
        "for index in range(NbBlock):\r\n",
        "    DataFR.append(FR[index*BlockSz:(index+1)*BlockSz])\r\n",
        "    countFR=[]\r\n",
        "    for letter in string.ascii_lowercase:\r\n",
        "        countFR.append(DataFR[index].count(letter))\r\n",
        "    for letter1 in string.ascii_lowercase:\r\n",
        "        for letter2 in string.ascii_lowercase:\r\n",
        "            countFR.append(DataFR[index].count(letter1+letter2))\r\n",
        "    FeaFR.append(countFR)\r\n",
        "\r\n",
        "# On procede de la même façon pour les differents languages ....\r\n",
        "textSPANISH = open('/content/SPANISH')\r\n",
        "ES=textSPANISH.read()\r\n",
        "textSPANISH.close()\r\n",
        "NbBlock=int(np.floor(len(ES)/BlockSz))\r\n",
        "DataES=[]\r\n",
        "FeaES =[]\r\n",
        "for index in range(NbBlock):\r\n",
        "    DataES.append(ES[index*BlockSz:(index+1)*BlockSz])\r\n",
        "    countES=[]\r\n",
        "    for letter in string.ascii_lowercase:\r\n",
        "        countES.append(DataES[index].count(letter))\r\n",
        "    for letter1 in string.ascii_lowercase:\r\n",
        "        for letter2 in string.ascii_lowercase:\r\n",
        "            countES.append(DataES[index].count(letter1+letter2))\r\n",
        "    FeaES.append(countES)\r\n",
        "\r\n",
        "# On procede de la même façon pour les differents languages ....\r\n",
        "textENGLISH = open('/content/ENGLISH')\r\n",
        "EN=textENGLISH.read()\r\n",
        "textENGLISH.close()\r\n",
        "NbBlock=int(np.floor(len(EN)/BlockSz))\r\n",
        "DataEN=[]\r\n",
        "FeaEN =[]\r\n",
        "for index in range(NbBlock):\r\n",
        "    DataEN.append(EN[index*BlockSz:(index+1)*BlockSz])\r\n",
        "    countEN=[]\r\n",
        "    for letter in string.ascii_lowercase:\r\n",
        "        countEN.append(DataEN[index].count(letter))\r\n",
        "    for letter1 in string.ascii_lowercase:\r\n",
        "        for letter2 in string.ascii_lowercase:\r\n",
        "            countEN.append(DataEN[index].count(letter1+letter2))\r\n",
        "    FeaEN.append(countEN)"
      ],
      "execution_count": 37,
      "outputs": []
    },
    {
      "cell_type": "code",
      "metadata": {
        "id": "AFJHX95ahu2a"
      },
      "source": [
        "np.save('./FeaEN100.npy', FeaEN)\r\n",
        "np.save('./FeaFR100.npy', FeaFR)\r\n",
        "np.save('./FeaDE100.npy', FeaDE)\r\n",
        "np.save('./FeaES100.npy', FeaES)"
      ],
      "execution_count": null,
      "outputs": []
    },
    {
      "cell_type": "code",
      "metadata": {
        "id": "lez8d1W2g4w_"
      },
      "source": [
        "#Chargement du Dataset avec Block size de 100\n",
        "FeaEN = np.load('./FeaEN100.npy')\n",
        "FeaFR = np.load('./FeaFR100.npy')\n",
        "FeaDE = np.load('./FeaDE100.npy')\n",
        "FeaES = np.load('./FeaES100.npy')"
      ],
      "execution_count": 4,
      "outputs": []
    },
    {
      "cell_type": "code",
      "metadata": {
        "scrolled": true,
        "colab": {
          "base_uri": "https://localhost:8080/"
        },
        "id": "4s1ixUJFg4xA",
        "outputId": "949672b0-b883-4231-d057-6aeff727366e"
      },
      "source": [
        "# Pour plus de \"facilier de manipulation\" on trasforme les donnes en \"matrice numpy\" et on affiche la dimension de la base de donnees.\n",
        "FeaDE = np.array(FeaDE)\n",
        "print(FeaDE.shape)\n",
        "FeaDE = np.array(FeaDE)\n",
        "print(FeaFR.shape)\n",
        "FeaES = np.array(FeaES)\n",
        "print(FeaES.shape)\n",
        "FeaEN = np.array(FeaEN)\n",
        "print(FeaEN.shape)\n"
      ],
      "execution_count": 40,
      "outputs": [
        {
          "output_type": "stream",
          "text": [
            "(43292, 702)\n",
            "(41160, 702)\n",
            "(43218, 702)\n",
            "(42095, 702)\n"
          ],
          "name": "stdout"
        }
      ]
    },
    {
      "cell_type": "markdown",
      "metadata": {
        "id": "5qy2Nw6NAvU8"
      },
      "source": [
        "## Fonctions"
      ]
    },
    {
      "cell_type": "markdown",
      "metadata": {
        "id": "cC6l3LFFhibX"
      },
      "source": [
        "Ce sont les fonctions que nous allons utiliser tout au cour du projet. \r\n",
        "\r\n",
        "La fonction ***feaDatasetsPrep*** permet de fusionner les datasets des langues que nous allons comparer. \r\n",
        "\r\n",
        "La fonction ***lasso_classifier_result*** est la fonction qui va nous permetre d'établir le seuil pour les résultats de la classification Lasso. Ce seuil est placé à 0 car nous entrainons le modèle sur des données prise entre {-1,1}.\r\n",
        "\r\n",
        "La fonction ***lasso_classifier_target*** est la fonction qui nous permet de transformer la variable target en variables binaires entre {-1,1} pour faire la classification Lasso. \r\n",
        "\r\n",
        "La fonction ***print_metric*** sera utilisé pour afficher la valeur des métriques utilisé pour comparer les classifieurs. \r\n",
        "\r\n",
        "La fonction ***mon_Ridge*** est la fonction utilisé pour faire de la classification Ridge. Le découpage du jeu de donnée en jeu d'entrainement et de test est fait à ce niveau.\r\n",
        "\r\n",
        "La fonction ***mon_Lasso*** est utilisé pour faire de la classification Lasso. Nous faisons aussi le découpage du jeu de donnée à ce niveau.\r\n",
        "\r\n",
        "La fonction ***mon_Lasso_nosplit*** sera utilisé pour faire de l'optimisation des hyperparamètres en utilisant la cross-validation. \r\n",
        "\r\n",
        "La fonction ***mon_SVM*** est la fonction utilisé pour faire de la classification avec SVM. Comme pour les autres fonctions nous avons fait le découpage du jeu de donnée à ce niveau.\r\n",
        "\r\n",
        "La fonction *** Var_name*** qui permet d'afficher le nom de la variable que nous visualisons. "
      ]
    },
    {
      "cell_type": "code",
      "metadata": {
        "id": "pYCV-h1ag4xB"
      },
      "source": [
        "# On prépare le dataset en fusionnant les Datasets des deux langues souhaitées.\n",
        "# Dans le premier cas nous utiliserons deux langues latines le Français et l'Espagnol\n",
        "# Il faut aussi créée la variable cible\n",
        "# 1 for French et 0 for Spanish  par exemple\n",
        "def feaDatasetsPrep(X1, X2):\n",
        "    y_1 = np.ones(X1.shape[0])\n",
        "    y_2 = np.zeros(X2.shape[0])\n",
        "    X = np.concatenate((X1, X2), axis=0)\n",
        "    y = np.concatenate((y_1, y_2), axis=0)\n",
        "    return X, y\n",
        "\n",
        "\n",
        "\n",
        "#Fonction pour seuiller les résultats de LASSO et l'utiliser comme classifier à partir du signe de la prédiction\n",
        "def lasso_classifier_result(y_pred):\n",
        "    for i in range(len(y_pred)):\n",
        "        if y_pred[i] <= 0:\n",
        "            y_pred[i] = 0\n",
        "        else: \n",
        "            y_pred[i] = 1\n",
        "    return y_pred\n",
        "\n",
        "# Fonction pour que la cible binaire soit comprise entre -1 et 1 pour que l'on fasse une classification sur le signe\n",
        "def lasso_classifier_target(y_pred):\n",
        "    Y = np.empty(len(y_pred))\n",
        "    for i in range(len(y_pred)):\n",
        "        if y_pred[i] < 0.5:\n",
        "            Y[i] = -1\n",
        "        else: \n",
        "            Y[i] = 1\n",
        "    return Y\n",
        "\n",
        "#Fonctions vous afficher les metriques de nos classifier\n",
        "def print_metric(nom, y_train, y_test, y_pred_train, y_pred_test):\n",
        "    print(nom+\" Train accuracy: \" + str(metrics.accuracy_score(y_train,y_pred_train)*100))\n",
        "    print(nom+\" Test accuracy: \" + str(metrics.accuracy_score(y_test,y_pred_test)*100))\n",
        "    average_precision = metrics.average_precision_score(y_pred_test, y_test)\n",
        "    print(nom+\" Average precision-recall score: {0:0.2f}\".format(average_precision))\n",
        "    print(nom+\" Confusion Matrix Train: \")\n",
        "    print(metrics.confusion_matrix(y_train, y_pred_train, normalize=\"true\"))\n",
        "    print(nom+\" Confusion Matrix Test: \")\n",
        "    print(metrics.confusion_matrix(y_test, y_pred_test, normalize=\"true\"))\n",
        "    \n",
        "    \n",
        "    \n",
        "\n",
        "#Ridge\n",
        "def mon_Ridge(X, y, alpha):\n",
        "    print(\"/////// RIDGE alpha=\"+str(alpha)+\"///////\")\n",
        "    X_train, X_test, y_train, y_test = train_test_split(X, y, test_size=0.33, random_state=7)\n",
        "    start = timeit.default_timer()\n",
        "    ridge = RidgeClassifier(alpha=alpha)\n",
        "    ridge.fit(X_train, y_train)\n",
        "    stop = timeit.default_timer()\n",
        "    ridge_y_pred_train = ridge.predict(X_train)\n",
        "    ridge_y_pred_test = ridge.predict(X_test)\n",
        "    #ridge_train_score = ridge.score(X_train, y_train)\n",
        "    #ridge_test_score = ridge.score(X_test, y_test)\n",
        "    print_metric(\"Ridge\", y_train, y_test, ridge_y_pred_train, ridge_y_pred_test)\n",
        "    print('ExecTime: ', stop - start) \n",
        "    print(\"\\n\\n\")\n",
        "    return {\"model\": ridge, \"alpha\":alpha, \"X_train\":X_train, \"X_test\":X_test, \"y_train\":y_train, \"y_test\":y_test, \"y_pred_train\":ridge_y_pred_train, \"y_pred_test\":ridge_y_pred_test}\n",
        "\n",
        "#Lasso\n",
        "def mon_Lasso(X, y, alpha):\n",
        "    print(\"/////// LASSO alpha=\"+str(alpha)+\"///////\")\n",
        "    X_train, X_test, y_train, y_test = train_test_split(X, y, test_size=0.33, random_state=7)\n",
        "    start = timeit.default_timer()\n",
        "    lass = Lasso(alpha=alpha)\n",
        "    y_train_modifie = lasso_classifier_target(y_train)\n",
        "    lass.fit(X_train,y_train_modifie)\n",
        "    stop = timeit.default_timer()\n",
        "    lass_y_pred_train = lass.predict(X_train)\n",
        "    lass_y_pred_test = lass.predict(X_test)\n",
        "    lass_y_pred_train = lasso_classifier_result(lass_y_pred_train)\n",
        "    lass_y_pred_test = lasso_classifier_result(lass_y_pred_test)    \n",
        "    print_metric(\"Lasso\", y_train, y_test, lass_y_pred_train, lass_y_pred_test)\n",
        "    print('ExecTime: ', stop - start) \n",
        "    print(\"\\n\\n\")\n",
        "    return {\"model\": lass, \"alpha\":alpha, \"X_train\":X_train, \"X_test\":X_test, \"y_train\":y_train, \"y_test\":y_test, \"y_pred_train\":lass_y_pred_train, \"y_pred_test\":lass_y_pred_test}\n",
        "    \n",
        "#Lasso no test train split\n",
        "def mon_Lasso_nosplit(X_train, X_test, y_train, y_test, alpha):\n",
        "    print(\"/////// LASSO alpha=\"+str(alpha)+\"///////\")\n",
        "    start = timeit.default_timer()\n",
        "    lass = Lasso(alpha=alpha)\n",
        "    y_train_modifie = lasso_classifier_target(y_train)\n",
        "    lass.fit(X_train,y_train_modifie)\n",
        "    stop = timeit.default_timer()\n",
        "    lass_y_pred_train = lass.predict(X_train)\n",
        "    lass_y_pred_test = lass.predict(X_test)\n",
        "    lass_y_pred_train = lasso_classifier_result(lass_y_pred_train)\n",
        "    lass_y_pred_test = lasso_classifier_result(lass_y_pred_test)    \n",
        "    print_metric(\"Lasso\", y_train, y_test, lass_y_pred_train, lass_y_pred_test)\n",
        "    print('ExecTime: ', stop - start) \n",
        "    print(\"\\n\\n\")\n",
        "    return {\"model\": lass, \"alpha\":alpha, \"X_train\":X_train, \"X_test\":X_test, \"y_train\":y_train, \"y_test\":y_test, \"y_pred_train\":lass_y_pred_train, \"y_pred_test\":lass_y_pred_test}\n",
        "    \n",
        "\n",
        "\n",
        "#SVM\n",
        "def mon_SVM(X, y, kernel, C):\n",
        "    print(\"/////// SVM C=\"+str(C)+\" kernel=\"+kernel+\"///////\")\n",
        "    X_train, X_test, y_train, y_test = train_test_split(X, y, test_size=0.33, random_state=7)\n",
        "    start = timeit.default_timer()\n",
        "    svm = SVC(C = C, kernel = kernel)\n",
        "    svm.fit(X_train, y_train)\n",
        "    stop = timeit.default_timer()\n",
        "    svm_y_pred_train = svm.predict(X_train)\n",
        "    svm_y_pred_test = svm.predict(X_test)\n",
        "    #svm_train_score = svm.score(X_train, y_train)\n",
        "    #svm_test_score = svm.score(X_test, y_test)\n",
        "    print_metric(\"SVM \" + kernel, y_train, y_test, svm_y_pred_train, svm_y_pred_test)\n",
        "    print('ExecTime: ', stop - start)              \n",
        "    print(\"\\n\\n\")\n",
        "    return {\"model\": svm, \"C\":C, \"X_train\":X_train, \"X_test\":X_test, \"y_train\":y_train, \"y_test\":y_test, \"y_pred_train\":svm_y_pred_train, \"y_pred_test\":svm_y_pred_test}\n",
        "    \n",
        "\n",
        "def Var_name(n):\n",
        "  if n <= 26 :\n",
        "    var = string.ascii_lowercase[n]\n",
        "  else:\n",
        "    let1 = int((n-26)/27)\n",
        "    let2 = n-26-let1*27-1\n",
        "    var = string.ascii_lowercase[let1]+string.ascii_lowercase[let2]\n",
        "  \n",
        "  return var\n"
      ],
      "execution_count": 1,
      "outputs": []
    },
    {
      "cell_type": "markdown",
      "metadata": {
        "id": "HAh1903Jg4xC"
      },
      "source": [
        "# Première Question : \n",
        "Réaliser une classification binaire en utilisant les méthodes linéaires suivantes: regression \"ridge\", LASSO et SVM (sans noyau !).\n",
        " * Pour ces méthodes vous devez faire une recherche du meilleur paramètre de régularisation ;\n",
        " * Vous devrez égalemement selectionner les deux languages de votre choix\n",
        " * Dans l'exemple fourni la taille des block de caractère extraits "
      ]
    },
    {
      "cell_type": "markdown",
      "metadata": {
        "id": "gtq5FQiSg4xC"
      },
      "source": [
        "## Sélection des langues\r\n",
        "\r\n",
        "Dans cette partie nous allons regarder quelle langue est la plus dur à classifier. Nous les départagerons à partir des performances données sur les sorties du modèle Lasso."
      ]
    },
    {
      "cell_type": "code",
      "metadata": {
        "colab": {
          "base_uri": "https://localhost:8080/"
        },
        "id": "X8F0gLWKkzJy",
        "outputId": "5ba3f55a-6f85-412a-e44c-bf51b5ce5910"
      },
      "source": [
        "langues = [FeaEN, FeaFR, FeaDE, FeaES]\r\n",
        "txt_langues = [\"EN\", \"FR\", \"DE\", \"ES\"]\r\n",
        "for l in range(len(langues)):\r\n",
        "    for l2 in range(len(langues)-1,0+l,-1):\r\n",
        "        if l != l2 :\r\n",
        "          print(txt_langues[l] +\"/\"+txt_langues[l2])\r\n",
        "          X, y = feaDatasetsPrep(langues[l], langues[l2])\r\n",
        "          ridge = mon_Lasso(X, y, 1)"
      ],
      "execution_count": 42,
      "outputs": [
        {
          "output_type": "stream",
          "text": [
            "EN/ES\n",
            "/////// LASSO alpha=1///////\n",
            "Lasso Train accuracy: 95.28508196434508\n",
            "Lasso Test accuracy: 95.08773176102862\n",
            "Lasso Average precision-recall score: 0.91\n",
            "Lasso Confusion Matrix Train: \n",
            "[[0.97984427 0.02015573]\n",
            " [0.07499556 0.92500444]]\n",
            "Lasso Confusion Matrix Test: \n",
            "[[0.97590531 0.02409469]\n",
            " [0.0745702  0.9254298 ]]\n",
            "ExecTime:  1.5333456510015822\n",
            "\n",
            "\n",
            "\n",
            "EN/DE\n",
            "/////// LASSO alpha=1///////\n",
            "Lasso Train accuracy: 92.01699033368875\n",
            "Lasso Test accuracy: 92.33444531194549\n",
            "Lasso Average precision-recall score: 0.87\n",
            "Lasso Confusion Matrix Train: \n",
            "[[0.95139775 0.04860225]\n",
            " [0.11195829 0.88804171]]\n",
            "Lasso Confusion Matrix Test: \n",
            "[[0.95042364 0.04957636]\n",
            " [0.10448298 0.89551702]]\n",
            "ExecTime:  1.6208865070002503\n",
            "\n",
            "\n",
            "\n",
            "EN/FR\n",
            "/////// LASSO alpha=1///////\n",
            "Lasso Train accuracy: 95.58623162423808\n",
            "Lasso Test accuracy: 95.5523202911738\n",
            "Lasso Average precision-recall score: 0.92\n",
            "Lasso Confusion Matrix Train: \n",
            "[[0.98950427 0.01049573]\n",
            " [0.07693397 0.92306603]]\n",
            "Lasso Confusion Matrix Test: \n",
            "[[0.98913761 0.01086239]\n",
            " [0.07754513 0.92245487]]\n",
            "ExecTime:  1.0771259079992888\n",
            "\n",
            "\n",
            "\n",
            "FR/ES\n",
            "/////// LASSO alpha=1///////\n",
            "Lasso Train accuracy: 91.13438168857128\n",
            "Lasso Test accuracy: 90.92476207577663\n",
            "Lasso Average precision-recall score: 0.88\n",
            "Lasso Confusion Matrix Train: \n",
            "[[0.89831211 0.10168789]\n",
            " [0.07495828 0.92504172]]\n",
            "Lasso Confusion Matrix Test: \n",
            "[[0.89485506 0.10514494]\n",
            " [0.07567289 0.92432711]]\n",
            "ExecTime:  1.355762732000585\n",
            "\n",
            "\n",
            "\n",
            "FR/DE\n",
            "/////// LASSO alpha=1///////\n",
            "Lasso Train accuracy: 93.65876073663001\n",
            "Lasso Test accuracy: 93.66343738787226\n",
            "Lasso Average precision-recall score: 0.93\n",
            "Lasso Confusion Matrix Train: \n",
            "[[0.90644605 0.09355395]\n",
            " [0.03169882 0.96830118]]\n",
            "Lasso Confusion Matrix Test: \n",
            "[[0.90680577 0.09319423]\n",
            " [0.03201354 0.96798646]]\n",
            "ExecTime:  1.3401457680010935\n",
            "\n",
            "\n",
            "\n",
            "DE/ES\n",
            "/////// LASSO alpha=1///////\n",
            "Lasso Train accuracy: 98.59560739117683\n",
            "Lasso Test accuracy: 98.66895512977688\n",
            "Lasso Average precision-recall score: 0.98\n",
            "Lasso Confusion Matrix Train: \n",
            "[[0.98138041 0.01861959]\n",
            " [0.00947851 0.99052149]]\n",
            "Lasso Confusion Matrix Test: \n",
            "[[0.98121934 0.01878066]\n",
            " [0.00784369 0.99215631]]\n",
            "ExecTime:  0.9100893149989133\n",
            "\n",
            "\n",
            "\n"
          ],
          "name": "stdout"
        }
      ]
    },
    {
      "cell_type": "markdown",
      "metadata": {
        "id": "eLzHKj8cg4xD"
      },
      "source": [
        "Nous remarquons que le classifier Lasso à plus de mal à classifier le français et l'espagnol ainsi que l'anglais et l'allemand. Cela peut ce comprendre car les deux couples de langues comparées ont une racine commune et le modèle a donc plus de mal à les différencier que pour les couples de langues ayant des racines différentes.\n",
        "\n",
        "Dans la suite nous allons donc nous intéresser à un de ces deux couples de langues afin d'avoir une meilleure interprétation de ce que fait le modèle. Nous choisisons d'utiliser le couple de langue FR/ES ayant l'accuracy la plus basse. \n"
      ]
    },
    {
      "cell_type": "markdown",
      "metadata": {
        "id": "fpLwuASJg4xD"
      },
      "source": [
        "## Classifier Français / Espagnol"
      ]
    },
    {
      "cell_type": "markdown",
      "metadata": {
        "id": "P3YXxDUlg4xD"
      },
      "source": [
        "Comme expliqué précédemment nous avons choisi d'effectuer nos tests de classification sur les langues Français et Espagol.\n",
        "C'est deux langues on une racine commune, le latin. Elles devraient donc être plus difficiles à classifier\n",
        "que deux langues de racine différentes (exemple Français (latin) et Anglais (Germain))."
      ]
    },
    {
      "cell_type": "code",
      "metadata": {
        "id": "DlFZ6-P0g4xD"
      },
      "source": [
        "#On cree notre Dataset\n",
        "#X features\n",
        "#y variable cible\n",
        "X, y = feaDatasetsPrep(FeaFR, FeaES)"
      ],
      "execution_count": 12,
      "outputs": []
    },
    {
      "cell_type": "code",
      "metadata": {
        "colab": {
          "base_uri": "https://localhost:8080/"
        },
        "id": "h_7rRFSVg4xD",
        "outputId": "699caa85-8c4d-4987-f795-92cd9e3d5480"
      },
      "source": [
        "#On vérifie la taille\n",
        "print(X.shape)\n",
        "print(y.shape)"
      ],
      "execution_count": 13,
      "outputs": [
        {
          "output_type": "stream",
          "text": [
            "(84378, 702)\n",
            "(84378,)\n"
          ],
          "name": "stdout"
        }
      ]
    },
    {
      "cell_type": "markdown",
      "metadata": {
        "id": "EnxlmHB6g4xE"
      },
      "source": [
        "## Ridge vs Lasso vs SVM (sans noyau)\r\n",
        "\r\n",
        "Dans cette partie nous allons regarder les différences entre les trois différents modèles utilisés pour faire de la classification: Le modèle Ridge, Lasso et SVM avec noyau linéaire. Dans un premier temps nous ne ferons pas de validation croisé ni d'optimisation. Puis nous verrons comment la cross-validation et l'optimisation des hyperparamètre impact nos modèles."
      ]
    },
    {
      "cell_type": "markdown",
      "metadata": {
        "id": "PF9bnvKQg4xE"
      },
      "source": [
        "### Modèles simple sans cross-validation, ni optimisation. \r\n",
        "\r\n"
      ]
    },
    {
      "cell_type": "markdown",
      "metadata": {
        "id": "6XpyzxL-qcUK"
      },
      "source": [
        "#### Classification Ridge\r\n",
        "On commence par faire une classification Ridge sur le couple de langue FR/ES."
      ]
    },
    {
      "cell_type": "code",
      "metadata": {
        "colab": {
          "base_uri": "https://localhost:8080/"
        },
        "id": "v9bZvM3Pg4xE",
        "outputId": "ea371f12-73f4-4dbf-fcba-6ae017f8f60e"
      },
      "source": [
        "#Modèle RidgeClassfier de base avec alpha = 1 (default value)\n",
        "ridge = mon_Ridge(X, y, 1)"
      ],
      "execution_count": 45,
      "outputs": [
        {
          "output_type": "stream",
          "text": [
            "/////// RIDGE alpha=1///////\n",
            "Ridge Train accuracy: 99.93455150089329\n",
            "Ridge Test accuracy: 99.92817381935716\n",
            "Ridge Average precision-recall score: 1.00\n",
            "Ridge Confusion Matrix Train: \n",
            "[[9.99482241e-01 5.17759138e-04]\n",
            " [7.98200421e-04 9.99201800e-01]]\n",
            "Ridge Confusion Matrix Test: \n",
            "[[9.99298098e-01 7.01902155e-04]\n",
            " [7.35402265e-04 9.99264598e-01]]\n",
            "ExecTime:  2.059057196998765\n",
            "\n",
            "\n",
            "\n"
          ],
          "name": "stdout"
        }
      ]
    },
    {
      "cell_type": "markdown",
      "metadata": {
        "id": "bbyssUiZsOmb"
      },
      "source": [
        "Nous constatons que le modèle Ridge avec comme valeur par défaut alpha = 1 donne une trés bonne accuracy pour les jeux d'entrainement et de test, il n'y a donc pas d'overfitting. Les matrices de confusions pour ces deux jeux de données donnent aussi de trés bon résultats ce qui concorde avec les trés bonnes valeurs d'accuracy. "
      ]
    },
    {
      "cell_type": "code",
      "metadata": {
        "colab": {
          "base_uri": "https://localhost:8080/",
          "height": 313
        },
        "id": "l2Mkvmsbg4xE",
        "outputId": "9aa292d2-c200-4968-919d-c5cca08c6ffc"
      },
      "source": [
        "plt.bar(range(len(ridge[\"model\"].coef_[0])), ridge[\"model\"].coef_[0])\r\n",
        "plt.title(label=\"Distribution des coefficients des 702 variables pour le modèle Ridge\",\r\n",
        "          fontsize = 12,\r\n",
        "          color = \"Red\")\r\n",
        "plt.xlabel('Variables')\r\n",
        "plt.ylabel('Coefficient')\r\n",
        "plt.show()\r\n",
        "\r\n",
        "coef_max = max(ridge[\"model\"].coef_[0])\r\n",
        "var_max = int(np.where(ridge[\"model\"].coef_[0]==coef_max)[0])\r\n",
        "print(\"La variables ayant le coefficient max %f est '%s', c'est la variable n° %d \"\r\n",
        "       %(coef_max,Var_name(var_max),var_max))"
      ],
      "execution_count": 46,
      "outputs": [
        {
          "output_type": "display_data",
          "data": {
            "image/png": "[encoded data removed]",
            "text/plain": [
              "<Figure size 432x288 with 1 Axes>"
            ]
          },
          "metadata": {
            "tags": [],
            "needs_background": "light"
          }
        },
        {
          "output_type": "stream",
          "text": [
            "La variables ayant le coefficient max 0.604894 est 'cu', c'est la variable n° 101 \n"
          ],
          "name": "stdout"
        }
      ]
    },
    {
      "cell_type": "markdown",
      "metadata": {
        "id": "0RFHgu2WslLW"
      },
      "source": [
        "Ce graphe affiche les coefficients des 702 différentes variables utilisées par le modèle pour réaliser la classification Ridge. Pour la comparaison du français avec l'espagnol il semblerait que le modèle ne privilégie pas une variable plus qu'une autre. Cependant nous remarquons que la variables \"CU\" est celle sur laquelle le modèle s'appuie le plus pour distinguer les deux langues. Le vecteur de projection, qui est le vecteur orthogonal à l'hyper-plan séparateur des classes, est donc le vecteur $U$ tel que :\r\n",
        "\r\n",
        ">> $ U =  \\sum_{i=1}^{n} \\theta_{i} X_i $\r\n",
        "\r\n",
        "ou $\\theta_i$ sont les coefficient du modèle associé à chaques variables $X_i$ et $n$ le nombre de variables qui vaut ici 702. "
      ]
    },
    {
      "cell_type": "markdown",
      "metadata": {
        "id": "JK-bNpYyvErU"
      },
      "source": [
        "#### Classification Lasso\r\n",
        "Nous allons analyser plus en détails la classification Lasso précédement réalisé sur le couple de langue FR/ES."
      ]
    },
    {
      "cell_type": "code",
      "metadata": {
        "colab": {
          "base_uri": "https://localhost:8080/"
        },
        "id": "nxz2Vy7_g4xE",
        "outputId": "67c700d6-5b19-46d4-a4a9-9262a488134d"
      },
      "source": [
        "#Modèle Lasso de base avec alpha = 1 (default value)\n",
        "lasso = mon_Lasso(X,y,1)"
      ],
      "execution_count": 47,
      "outputs": [
        {
          "output_type": "stream",
          "text": [
            "/////// LASSO alpha=1///////\n",
            "Lasso Train accuracy: 91.13438168857128\n",
            "Lasso Test accuracy: 90.92476207577663\n",
            "Lasso Average precision-recall score: 0.88\n",
            "Lasso Confusion Matrix Train: \n",
            "[[0.89831211 0.10168789]\n",
            " [0.07495828 0.92504172]]\n",
            "Lasso Confusion Matrix Test: \n",
            "[[0.89485506 0.10514494]\n",
            " [0.07567289 0.92432711]]\n",
            "ExecTime:  1.3173440140017192\n",
            "\n",
            "\n",
            "\n"
          ],
          "name": "stdout"
        }
      ]
    },
    {
      "cell_type": "markdown",
      "metadata": {
        "id": "J772qCt7vVDe"
      },
      "source": [
        "Nous pouvons voir que la classification Lasso pour une valeur de alpha = 1 est néttement moin bon que le modèle Ridge. En effet on passe d'une accuracy de 99% à 91% pour le jeu d'entrainement et de 90% pour le jeu de test. On remarque cependant que ces deux valeurs reste proche et nous pouvons en conclure qu'il n'y a pas d'overfitting. Le modèle est moin précis mais met moin de temps. "
      ]
    },
    {
      "cell_type": "code",
      "metadata": {
        "colab": {
          "base_uri": "https://localhost:8080/"
        },
        "id": "AUdPpDYITZqV",
        "outputId": "1be58864-8b3d-44a1-dcd7-38dcc2c9a6b8"
      },
      "source": [
        "# on regarde les coefficients non nuls \r\n",
        "print(\"Nombre de coefficients non-nuls:\", np.count_nonzero(lasso[\"model\"].coef_))\r\n",
        "non_zero_val = np.where(lasso[\"model\"].coef_ != 0)[0]\r\n",
        "for i in range(len(non_zero_val)):\r\n",
        " print(\"Le coefficient de la variable\",Var_name(non_zero_val[i]),\" n°:\",non_zero_val[i],\"vaut\",lasso[\"model\"].coef_[non_zero_val[i]])\r\n"
      ],
      "execution_count": 48,
      "outputs": [
        {
          "output_type": "stream",
          "text": [
            "Nombre de coefficients non-nuls: 3\n",
            "Le coefficient de la variable a  n°: 0 vaut -0.05981159351213096\n",
            "Le coefficient de la variable o  n°: 14 vaut -0.10040566153921375\n",
            "Le coefficient de la variable t  n°: 19 vaut 3.583312071386435e-05\n"
          ],
          "name": "stdout"
        }
      ]
    },
    {
      "cell_type": "markdown",
      "metadata": {
        "id": "IXfr6Y-NWYgQ"
      },
      "source": [
        "Le modèle semble n'utiliser que ces trois variables pour classer les langues. On constate que la variable sur laquelle le modèle se calque le plus pour différencier les langues française et espagnol est la variables \"o\". Cela pourrait expliquer la plus faible accuracy du modèle par rapport au modèle Ridge ainsi que sa rapidité d'éxécution. Cependant il est difficile d'expliquer exactement pourquoi le modèle choisit de se fixer sur ces variables plus que d'autre. Le vecteur de projection obtenu peut donc simplement s'écrire : \r\n",
        "\r\n",
        "$ U = \\theta_0 X_0 + \\theta_14 X_{14} + \\theta_{19} X_{19}$\r\n",
        "\r\n",
        "$ => U = - 0.06 X_0 - 0.1 X_{14} + 3.6e^{-05} X_{19}$\r\n"
      ]
    },
    {
      "cell_type": "markdown",
      "metadata": {
        "id": "lOOqtEE9zUsT"
      },
      "source": [
        "#### Classification SVM\r\n",
        "\r\n",
        "Nous allons maintenant passer au dernier classifier, la SVM."
      ]
    },
    {
      "cell_type": "code",
      "metadata": {
        "id": "umcoVUL8g4xF",
        "colab": {
          "base_uri": "https://localhost:8080/"
        },
        "outputId": "2cead500-cd18-4ae6-bb7f-90d194043049"
      },
      "source": [
        "#Modèle SVM de base avec C = 1 (default value)\n",
        "svm = mon_SVM(X, y, \"linear\", C=1)"
      ],
      "execution_count": 49,
      "outputs": [
        {
          "output_type": "stream",
          "text": [
            "/////// SVM C=1 kernel=linear///////\n",
            "SVM linear Train accuracy: 100.0\n",
            "SVM linear Test accuracy: 99.91021727419644\n",
            "SVM linear Average precision-recall score: 1.00\n",
            "SVM linear Confusion Matrix Train: \n",
            "[[1. 0.]\n",
            " [0. 1.]]\n",
            "SVM linear Confusion Matrix Test: \n",
            "[[9.99227908e-01 7.72092370e-04]\n",
            " [1.02956317e-03 9.98970437e-01]]\n",
            "ExecTime:  29.83189271900119\n",
            "\n",
            "\n",
            "\n"
          ],
          "name": "stdout"
        }
      ]
    },
    {
      "cell_type": "markdown",
      "metadata": {
        "id": "lf3_PE6Kzm5s"
      },
      "source": [
        "Nous obtenons un score d'accuracy encore meilleur que pour la classification Lasso et Ridge cependant le modèle prend beaucoup plus de temps à tourner $\\approx$ 30 sec pour la SVM contre 1 à 2 sec pour Lasso et Ridge. "
      ]
    },
    {
      "cell_type": "code",
      "metadata": {
        "id": "zzn17nEqg4xG",
        "colab": {
          "base_uri": "https://localhost:8080/",
          "height": 313
        },
        "outputId": "2e8e5276-6239-421c-adc5-6f0c120033da"
      },
      "source": [
        "plt.bar(range(len(svm[\"model\"].coef_[0])), svm[\"model\"].coef_[0])\r\n",
        "plt.title(label=\"Distribution des coefficients des 702 variables pour le modèle SVM\",\r\n",
        "          fontsize = 12,\r\n",
        "          color = \"Red\")\r\n",
        "plt.xlabel('Variables')\r\n",
        "plt.ylabel('Coefficient')\r\n",
        "plt.show()\r\n",
        "\r\n",
        "coef_max = max(svm[\"model\"].coef_[0])\r\n",
        "var_max = int(np.where(svm[\"model\"].coef_[0]==coef_max)[0])\r\n",
        "print(\"La variables ayant le coefficient max %f est '%s', c'est la variable n° %d \"\r\n",
        "       %(coef_max,Var_name(var_max),var_max))"
      ],
      "execution_count": 50,
      "outputs": [
        {
          "output_type": "display_data",
          "data": {
            "image/png": "[encoded data removed]",
            "text/plain": [
              "<Figure size 432x288 with 1 Axes>"
            ]
          },
          "metadata": {
            "tags": [],
            "needs_background": "light"
          }
        },
        {
          "output_type": "stream",
          "text": [
            "La variables ayant le coefficient max 0.440145 est 'nu', c'est la variable n° 398 \n"
          ],
          "name": "stdout"
        }
      ]
    },
    {
      "cell_type": "markdown",
      "metadata": {
        "id": "VC_gDSS80RBs"
      },
      "source": [
        "Comme pour le modèle Ridge la classification SVM prend en compte quasiment toutes les variables afin de distinguer les deux langues. La répartition des coéfficient est cependant plus \"lissé\" que par rapport au modèle Ridge. Le vecteur de projection est, comme pour le modèle ridge, la somme des produits de coéfficient avec la valeur des variables.\r\n",
        "\r\n",
        ">> $ U =  \\sum_{i=1}^{n} \\theta_{i} X_i $"
      ]
    },
    {
      "cell_type": "markdown",
      "metadata": {
        "id": "8mC8jCWGg4xG"
      },
      "source": [
        "Nous avons ici créée 3 modèles différent sans optimisation pour notre problèmes de classification des langues FR/ES. Le modèle lasso étant le moins performant mais le plus rapide. Comme nous l'avons dit cela pourrait provenir du fait que le modèle ne prend en compte que trés peu de variable pour réaliser la classification.\n",
        "\n",
        "Les modèles RidgeClassifier et SVC (SVM) avec noyau linéair on des résultats presque parfaits.\n",
        "Néanmoins la SVM a un temps de calcul trop élevé avec des résultats compratable à Ridge. \n",
        "\n",
        "Nous concidérons qu'il est plus interessant de se concentrer sur l'optimisation de Lasso pour essayer d'en tirer de meilleur résultat. "
      ]
    },
    {
      "cell_type": "markdown",
      "metadata": {
        "id": "_oc8cOrgg4xG"
      },
      "source": [
        "### Optimisation de LASSO"
      ]
    },
    {
      "cell_type": "markdown",
      "metadata": {
        "id": "aldfGPGgg4xG"
      },
      "source": [
        "Nous allons entrainer plusieurs modèle lasso avec des valeurs de 10 alpha croissantes pour observé l'impact de la régularization sur la modélistaion de ce problème. "
      ]
    },
    {
      "cell_type": "markdown",
      "metadata": {
        "id": "Dzks_cfI4nt4"
      },
      "source": [
        "On commence par définir les alphas sur lesquels nous allons entrainer notre modèle. "
      ]
    },
    {
      "cell_type": "code",
      "metadata": {
        "id": "_J_8Zi60g4xG",
        "colab": {
          "base_uri": "https://localhost:8080/"
        },
        "outputId": "80435b04-94e4-4afd-e0d2-c48d89b0b523"
      },
      "source": [
        "alphas = np.logspace(-10, 0.5, 10)\n",
        "print(len(alphas))\n",
        "alphas"
      ],
      "execution_count": 10,
      "outputs": [
        {
          "output_type": "stream",
          "text": [
            "10\n"
          ],
          "name": "stdout"
        },
        {
          "output_type": "execute_result",
          "data": {
            "text/plain": [
              "array([1.00000000e-10, 1.46779927e-09, 2.15443469e-08, 3.16227766e-07,\n",
              "       4.64158883e-06, 6.81292069e-05, 1.00000000e-03, 1.46779927e-02,\n",
              "       2.15443469e-01, 3.16227766e+00])"
            ]
          },
          "metadata": {
            "tags": []
          },
          "execution_count": 10
        }
      ]
    },
    {
      "cell_type": "markdown",
      "metadata": {
        "id": "o7GhDlkd4wbK"
      },
      "source": [
        "Ensuite nous lanssons l'entrainement de nos modèles. Cela se résume simplement par une boucle. "
      ]
    },
    {
      "cell_type": "code",
      "metadata": {
        "id": "LTlDvcdXg4xH",
        "colab": {
          "base_uri": "https://localhost:8080/"
        },
        "outputId": "e13af45d-1118-4146-d8bf-779c90f6b369"
      },
      "source": [
        "tab_lasso=[]\n",
        "for i in range(len(alphas)):\n",
        "    tab_lasso.append(mon_Lasso(X, y, alphas[i]))"
      ],
      "execution_count": 14,
      "outputs": [
        {
          "output_type": "stream",
          "text": [
            "/////// LASSO alpha=1e-10///////\n"
          ],
          "name": "stdout"
        },
        {
          "output_type": "stream",
          "text": [
            "/usr/local/lib/python3.6/dist-packages/sklearn/linear_model/_coordinate_descent.py:476: ConvergenceWarning: Objective did not converge. You might want to increase the number of iterations. Duality gap: 1732.5877713538778, tolerance: 5.649788279411991\n",
            "  positive)\n"
          ],
          "name": "stderr"
        },
        {
          "output_type": "stream",
          "text": [
            "Lasso Train accuracy: 99.93455150089329\n",
            "Lasso Test accuracy: 99.92458251032501\n",
            "Lasso Average precision-recall score: 1.00\n",
            "Lasso Confusion Matrix Train: \n",
            "[[9.99482241e-01 5.17759138e-04]\n",
            " [7.98200421e-04 9.99201800e-01]]\n",
            "Lasso Confusion Matrix Test: \n",
            "[[9.99227908e-01 7.72092370e-04]\n",
            " [7.35402265e-04 9.99264598e-01]]\n",
            "ExecTime:  67.90277028200217\n",
            "\n",
            "\n",
            "\n",
            "/////// LASSO alpha=1.4677992676220676e-09///////\n"
          ],
          "name": "stdout"
        },
        {
          "output_type": "stream",
          "text": [
            "/usr/local/lib/python3.6/dist-packages/sklearn/linear_model/_coordinate_descent.py:476: ConvergenceWarning: Objective did not converge. You might want to increase the number of iterations. Duality gap: 1732.5855345266614, tolerance: 5.649788279411991\n",
            "  positive)\n"
          ],
          "name": "stderr"
        },
        {
          "output_type": "stream",
          "text": [
            "Lasso Train accuracy: 99.93455150089329\n",
            "Lasso Test accuracy: 99.92458251032501\n",
            "Lasso Average precision-recall score: 1.00\n",
            "Lasso Confusion Matrix Train: \n",
            "[[9.99482241e-01 5.17759138e-04]\n",
            " [7.98200421e-04 9.99201800e-01]]\n",
            "Lasso Confusion Matrix Test: \n",
            "[[9.99227908e-01 7.72092370e-04]\n",
            " [7.35402265e-04 9.99264598e-01]]\n",
            "ExecTime:  65.5309287300006\n",
            "\n",
            "\n",
            "\n",
            "/////// LASSO alpha=2.1544346900318866e-08///////\n"
          ],
          "name": "stdout"
        },
        {
          "output_type": "stream",
          "text": [
            "/usr/local/lib/python3.6/dist-packages/sklearn/linear_model/_coordinate_descent.py:476: ConvergenceWarning: Objective did not converge. You might want to increase the number of iterations. Duality gap: 1732.5525425156618, tolerance: 5.649788279411991\n",
            "  positive)\n"
          ],
          "name": "stderr"
        },
        {
          "output_type": "stream",
          "text": [
            "Lasso Train accuracy: 99.93455150089329\n",
            "Lasso Test accuracy: 99.92458251032501\n",
            "Lasso Average precision-recall score: 1.00\n",
            "Lasso Confusion Matrix Train: \n",
            "[[9.99482241e-01 5.17759138e-04]\n",
            " [7.98200421e-04 9.99201800e-01]]\n",
            "Lasso Confusion Matrix Test: \n",
            "[[9.99227908e-01 7.72092370e-04]\n",
            " [7.35402265e-04 9.99264598e-01]]\n",
            "ExecTime:  61.098799666997365\n",
            "\n",
            "\n",
            "\n",
            "/////// LASSO alpha=3.162277660168379e-07///////\n"
          ],
          "name": "stdout"
        },
        {
          "output_type": "stream",
          "text": [
            "/usr/local/lib/python3.6/dist-packages/sklearn/linear_model/_coordinate_descent.py:476: ConvergenceWarning: Objective did not converge. You might want to increase the number of iterations. Duality gap: 1732.0352711060682, tolerance: 5.649788279411991\n",
            "  positive)\n"
          ],
          "name": "stderr"
        },
        {
          "output_type": "stream",
          "text": [
            "Lasso Train accuracy: 99.93455150089329\n",
            "Lasso Test accuracy: 99.92458251032501\n",
            "Lasso Average precision-recall score: 1.00\n",
            "Lasso Confusion Matrix Train: \n",
            "[[9.99482241e-01 5.17759138e-04]\n",
            " [7.98200421e-04 9.99201800e-01]]\n",
            "Lasso Confusion Matrix Test: \n",
            "[[9.99227908e-01 7.72092370e-04]\n",
            " [7.35402265e-04 9.99264598e-01]]\n",
            "ExecTime:  60.70969256600074\n",
            "\n",
            "\n",
            "\n",
            "/////// LASSO alpha=4.641588833612782e-06///////\n"
          ],
          "name": "stdout"
        },
        {
          "output_type": "stream",
          "text": [
            "/usr/local/lib/python3.6/dist-packages/sklearn/linear_model/_coordinate_descent.py:476: ConvergenceWarning: Objective did not converge. You might want to increase the number of iterations. Duality gap: 1719.2451328655982, tolerance: 5.649788279411991\n",
            "  positive)\n"
          ],
          "name": "stderr"
        },
        {
          "output_type": "stream",
          "text": [
            "Lasso Train accuracy: 99.93455150089329\n",
            "Lasso Test accuracy: 99.92817381935716\n",
            "Lasso Average precision-recall score: 1.00\n",
            "Lasso Confusion Matrix Train: \n",
            "[[9.99482241e-01 5.17759138e-04]\n",
            " [7.98200421e-04 9.99201800e-01]]\n",
            "Lasso Confusion Matrix Test: \n",
            "[[9.99298098e-01 7.01902155e-04]\n",
            " [7.35402265e-04 9.99264598e-01]]\n",
            "ExecTime:  60.97307723800259\n",
            "\n",
            "\n",
            "\n",
            "/////// LASSO alpha=6.812920690579622e-05///////\n"
          ],
          "name": "stdout"
        },
        {
          "output_type": "stream",
          "text": [
            "/usr/local/lib/python3.6/dist-packages/sklearn/linear_model/_coordinate_descent.py:476: ConvergenceWarning: Objective did not converge. You might want to increase the number of iterations. Duality gap: 1310.9915705395356, tolerance: 5.649788279411991\n",
            "  positive)\n"
          ],
          "name": "stderr"
        },
        {
          "output_type": "stream",
          "text": [
            "Lasso Train accuracy: 99.91863159570516\n",
            "Lasso Test accuracy: 99.93176512838929\n",
            "Lasso Average precision-recall score: 1.00\n",
            "Lasso Confusion Matrix Train: \n",
            "[[9.99413206e-01 5.86793690e-04]\n",
            " [1.05217328e-03 9.98947827e-01]]\n",
            "Lasso Confusion Matrix Test: \n",
            "[[9.99368288e-01 6.31711939e-04]\n",
            " [7.35402265e-04 9.99264598e-01]]\n",
            "ExecTime:  58.04906514200047\n",
            "\n",
            "\n",
            "\n",
            "/////// LASSO alpha=0.001///////\n",
            "Lasso Train accuracy: 99.90094281216281\n",
            "Lasso Test accuracy: 99.93535643742145\n",
            "Lasso Average precision-recall score: 1.00\n",
            "Lasso Confusion Matrix Train: \n",
            "[[9.99378689e-01 6.21310966e-04]\n",
            " [1.37870982e-03 9.98621290e-01]]\n",
            "Lasso Confusion Matrix Test: \n",
            "[[9.99508668e-01 4.91331508e-04]\n",
            " [8.08942492e-04 9.99191058e-01]]\n",
            "ExecTime:  19.111173692999728\n",
            "\n",
            "\n",
            "\n",
            "/////// LASSO alpha=0.014677992676220735///////\n",
            "Lasso Train accuracy: 99.64622432915289\n",
            "Lasso Test accuracy: 99.66241695097862\n",
            "Lasso Average precision-recall score: 1.00\n",
            "Lasso Confusion Matrix Train: \n",
            "[[0.99489144 0.00510856]\n",
            " [0.00188666 0.99811334]]\n",
            "Lasso Confusion Matrix Test: \n",
            "[[0.99480592 0.00519408]\n",
            " [0.0014708  0.9985292 ]]\n",
            "ExecTime:  4.218639679998887\n",
            "\n",
            "\n",
            "\n",
            "/////// LASSO alpha=0.21544346900318867///////\n",
            "Lasso Train accuracy: 96.86731643464879\n",
            "Lasso Test accuracy: 96.85760459687556\n",
            "Lasso Average precision-recall score: 0.96\n",
            "Lasso Confusion Matrix Train: \n",
            "[[0.96009803 0.03990197]\n",
            " [0.02231333 0.97768667]]\n",
            "Lasso Confusion Matrix Test: \n",
            "[[0.95830701 0.04169299]\n",
            " [0.0206648  0.9793352 ]]\n",
            "ExecTime:  4.128164406996802\n",
            "\n",
            "\n",
            "\n",
            "/////// LASSO alpha=3.1622776601683795///////\n",
            "Lasso Train accuracy: 51.24617480055896\n",
            "Lasso Test accuracy: 51.16537978093015\n",
            "Lasso Average precision-recall score: nan\n",
            "Lasso Confusion Matrix Train: \n",
            "[[1. 0.]\n",
            " [1. 0.]]\n",
            "Lasso Confusion Matrix Test: \n",
            "[[1. 0.]\n",
            " [1. 0.]]\n",
            "ExecTime:  2.952977101002034\n",
            "\n",
            "\n",
            "\n"
          ],
          "name": "stdout"
        },
        {
          "output_type": "stream",
          "text": [
            "/usr/local/lib/python3.6/dist-packages/sklearn/metrics/_ranking.py:677: RuntimeWarning: invalid value encountered in true_divide\n",
            "  recall = tps / tps[-1]\n"
          ],
          "name": "stderr"
        }
      ]
    },
    {
      "cell_type": "markdown",
      "metadata": {
        "id": "hBznSMmj6XIE"
      },
      "source": [
        "Nous allons créer deux listes afin de récuperer les scores d'accuracy de nos modèle précédemment entrainé sur les différents alpha. "
      ]
    },
    {
      "cell_type": "code",
      "metadata": {
        "id": "ASaxSBFug4xH"
      },
      "source": [
        "test_acc=[]\n",
        "train_acc=[]\n",
        "for l in tab_lasso:\n",
        "    test_acc.append(metrics.accuracy_score(l['y_test'],l['y_pred_test'])*100)\n",
        "    train_acc.append(metrics.accuracy_score(l['y_train'],l['y_pred_train'])*100)"
      ],
      "execution_count": 54,
      "outputs": []
    },
    {
      "cell_type": "markdown",
      "metadata": {
        "id": "6Vme8Y2A6kyi"
      },
      "source": [
        "Nous réalisons un graphe représentant la valeur des scores d'accuracy en fonction de nos alphas."
      ]
    },
    {
      "cell_type": "code",
      "metadata": {
        "id": "YEtFrFY1g4xH",
        "colab": {
          "base_uri": "https://localhost:8080/",
          "height": 299
        },
        "outputId": "17ffe361-80ca-4a8e-cdf3-37fdc96af346"
      },
      "source": [
        "plt.figure(0)\n",
        "plt.plot(alphas, test_acc, 'bo', alpha =0.1)\n",
        "plt.plot(alphas, train_acc, 'ro', alpha =0.1)\n",
        "plt.title(\"Accuracy by Alpha value LASSO\")\n",
        "plt.xlabel(\"Alpha\")\n",
        "plt.ylabel(\"Accuracy\")\n",
        "plt.xscale(\"log\")\n",
        "plt.show()"
      ],
      "execution_count": 55,
      "outputs": [
        {
          "output_type": "display_data",
          "data": {
            "image/png": "[encoded data removed]",
            "text/plain": [
              "<Figure size 432x288 with 1 Axes>"
            ]
          },
          "metadata": {
            "tags": [],
            "needs_background": "light"
          }
        }
      ]
    },
    {
      "cell_type": "markdown",
      "metadata": {
        "id": "6JyPTBRig4xH"
      },
      "source": [
        "On peut observer que plus l'on régularise LASSO c'est à dire que plus l'on augmente alpha, moins le modèle est performant. D'ailleurs nous pouvons voir que pour la dernière valeur de alpha = 3.16 le modèle n'a pas réussi à classer nos deux langue. \n",
        "\n",
        "De plus même avec un alpha très proche de zero le modèle ne montre pas de signe d'overfitting des données. \n",
        "\n",
        "Néanmoins plus alpha est faible plus le temps de calcul est long et sickit affiche des warning du à la faible valeur d'alpha qui donne des calcules de petites valeurs très long. \n",
        "\n",
        "A partir de la 7eme valeurs d'alpha testé on passe d'environ 60 secondes d'éxecution à 15 secondes pour une accuracy toujours très bonne proche de 99%. C'est donc l'un des meilleurs modèles en terme de ratio performance/temps. \n",
        "\n",
        "On choisira le modèle tel que alpha=0.015 celui-ci étant le modèle qui a pour nous le meilleure ratio performance / temp. "
      ]
    },
    {
      "cell_type": "markdown",
      "metadata": {
        "id": "oV0gfcEBHTky"
      },
      "source": [
        "### Cross-validation pour LASSO"
      ]
    },
    {
      "cell_type": "markdown",
      "metadata": {
        "id": "9P4y6urcg4xI"
      },
      "source": [
        "Dans cette partie nous allons voir la cross-validation qui consiste à subdivisé notre jeu de donnée en $k$ sous-ensembles de jeux de données d'entrainement et de test puis d'entrainer le modèle sur ces différents jeux. Ensuite il suffit de faire la moyenne des métriques obtenue pour chaque sous-enssemnles de jeux de données afin d'obtenir une métrique nous permettant d'analyser notre modèle. Cette méthode est essentiellement utilisé pour évité l'overfitting des modèles. Nous verons comment celle-ci impacte le notre. \r\n",
        "\r\n",
        "![image.png](data:image/png;base64,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)"
      ]
    },
    {
      "cell_type": "markdown",
      "metadata": {
        "id": "buBJBTegFJN9"
      },
      "source": [
        "Dans un premier temps nous créons une fonction qui permet de faire cette cross-validation. Nous sauvegardons les valeurs des jeux de données au cas ou nous souhaitons les réutiliser plus tard. "
      ]
    },
    {
      "cell_type": "code",
      "metadata": {
        "id": "y3bLuFzzg4xI"
      },
      "source": [
        "#Dataset FR et EN\n",
        "\n",
        "X_fres, y_fres = feaDatasetsPrep(FeaFR, FeaES)\n",
        "\n",
        "# Fonction qui permet de réaliser la cross-validation. \n",
        "def Kfold_Lasso(X, y, nb_kfold, alpha_param):\n",
        "    # prepare cross validation\n",
        "    kfold = KFold(nb_kfold,shuffle=True)\n",
        "    # enumerate splits\n",
        "    test_acc = []\n",
        "    train_acc = []\n",
        "    test_confmatric = []\n",
        "    train_confmatric = []\n",
        "    tab_lasso = []\n",
        "    for train_index, test_index in kfold.split(X, y):        \n",
        "        X_train, X_test = X[train_index], X[test_index]\n",
        "        y_train, y_test = y[train_index], y[test_index]        \n",
        "        tab_lasso.append(mon_Lasso_nosplit(X_train, X_test, y_train, y_test, alpha_param))        \n",
        "    return tab_lasso\n"
      ],
      "execution_count": 6,
      "outputs": []
    },
    {
      "cell_type": "markdown",
      "metadata": {
        "id": "WnD4j8Ol_6FH"
      },
      "source": [
        "On fait l'entrainement de notre modèle avec la cross-validation, on choisit de diviser le jeu de données en 10 sous-ensemble. Cela veut dire que pour chaque entrainement de notre modèle, neuf seront utilisé pour l'entrainement et un pour le test."
      ]
    },
    {
      "cell_type": "code",
      "metadata": {
        "id": "m-DkRNnhg4xI",
        "colab": {
          "base_uri": "https://localhost:8080/"
        },
        "outputId": "345fc247-6db4-4574-d708-667ea1cea9fe"
      },
      "source": [
        "tab_lasso_kfold = Kfold_Lasso(X_fres, y_fres, 10, 0.015)"
      ],
      "execution_count": 7,
      "outputs": [
        {
          "output_type": "stream",
          "text": [
            "/////// LASSO alpha=0.015///////\n",
            "Lasso Train accuracy: 99.66684224387674\n",
            "Lasso Test accuracy: 99.5141028679782\n",
            "Lasso Average precision-recall score: 0.99\n",
            "Lasso Confusion Matrix Train: \n",
            "[[0.99518785 0.00481215]\n",
            " [0.00177994 0.99822006]]\n",
            "Lasso Confusion Matrix Test: \n",
            "[[0.99311611 0.00688389]\n",
            " [0.00269608 0.99730392]]\n",
            "ExecTime:  4.823572702000092\n",
            "\n",
            "\n",
            "\n",
            "/////// LASSO alpha=0.015///////\n",
            "Lasso Train accuracy: 99.66420858572558\n",
            "Lasso Test accuracy: 99.63261436359326\n",
            "Lasso Average precision-recall score: 0.99\n",
            "Lasso Confusion Matrix Train: \n",
            "[[0.99511254 0.00488746]\n",
            " [0.00175368 0.99824632]]\n",
            "Lasso Confusion Matrix Test: \n",
            "[[0.99562514 0.00437486]\n",
            " [0.0029304  0.9970696 ]]\n",
            "ExecTime:  5.07254366000052\n",
            "\n",
            "\n",
            "\n",
            "/////// LASSO alpha=0.015///////\n",
            "Lasso Train accuracy: 99.63787200421386\n",
            "Lasso Test accuracy: 99.78667930789287\n",
            "Lasso Average precision-recall score: 1.00\n",
            "Lasso Confusion Matrix Train: \n",
            "[[0.9948084  0.0051916 ]\n",
            " [0.00197132 0.99802868]]\n",
            "Lasso Confusion Matrix Test: \n",
            "[[9.96750986e-01 3.24901369e-03]\n",
            " [9.68757568e-04 9.99031242e-01]]\n",
            "ExecTime:  4.652604866001639\n",
            "\n",
            "\n",
            "\n",
            "/////// LASSO alpha=0.015///////\n",
            "Lasso Train accuracy: 99.6431393205162\n",
            "Lasso Test accuracy: 99.81038160701588\n",
            "Lasso Average precision-recall score: 1.00\n",
            "Lasso Confusion Matrix Train: \n",
            "[[0.99482878 0.00517122]\n",
            " [0.00188827 0.99811173]]\n",
            "Lasso Confusion Matrix Test: \n",
            "[[0.99793056 0.00206944]\n",
            " [0.00171191 0.99828809]]\n",
            "ExecTime:  4.831788951996714\n",
            "\n",
            "\n",
            "\n",
            "/////// LASSO alpha=0.015///////\n",
            "Lasso Train accuracy: 99.66815907295234\n",
            "Lasso Test accuracy: 99.56150746622421\n",
            "Lasso Average precision-recall score: 0.99\n",
            "Lasso Confusion Matrix Train: \n",
            "[[0.99522379 0.00477621]\n",
            " [0.00178393 0.99821607]]\n",
            "Lasso Confusion Matrix Test: \n",
            "[[0.99368421 0.00631579]\n",
            " [0.00240211 0.99759789]]\n",
            "ExecTime:  4.305886431000545\n",
            "\n",
            "\n",
            "\n",
            "/////// LASSO alpha=0.015///////\n",
            "Lasso Train accuracy: 99.64577297866737\n",
            "Lasso Test accuracy: 99.6800189618393\n",
            "Lasso Average precision-recall score: 1.00\n",
            "Lasso Confusion Matrix Train: \n",
            "[[0.99490715 0.00509285]\n",
            " [0.00191571 0.99808429]]\n",
            "Lasso Confusion Matrix Test: \n",
            "[[9.94700461e-01 5.29953917e-03]\n",
            " [9.76085896e-04 9.99023914e-01]]\n",
            "ExecTime:  4.509351618999062\n",
            "\n",
            "\n",
            "\n",
            "/////// LASSO alpha=0.015///////\n",
            "Lasso Train accuracy: 99.6721095601791\n",
            "Lasso Test accuracy: 99.50225171841669\n",
            "Lasso Average precision-recall score: 0.99\n",
            "Lasso Confusion Matrix Train: \n",
            "[[0.99526834 0.00473166]\n",
            " [0.00175424 0.99824576]]\n",
            "Lasso Confusion Matrix Test: \n",
            "[[0.9928423  0.0071577 ]\n",
            " [0.00267835 0.99732165]]\n",
            "ExecTime:  4.268621410003107\n",
            "\n",
            "\n",
            "\n",
            "/////// LASSO alpha=0.015///////\n",
            "Lasso Train accuracy: 99.65630761127206\n",
            "Lasso Test accuracy: 99.58520976534724\n",
            "Lasso Average precision-recall score: 0.99\n",
            "Lasso Confusion Matrix Train: \n",
            "[[0.99501644 0.00498356]\n",
            " [0.00181022 0.99818978]]\n",
            "Lasso Confusion Matrix Test: \n",
            "[[0.99417249 0.00582751]\n",
            " [0.0024108  0.9975892 ]]\n",
            "ExecTime:  4.45798833599838\n",
            "\n",
            "\n",
            "\n",
            "/////// LASSO alpha=0.015///////\n",
            "Lasso Train accuracy: 99.65104489011206\n",
            "Lasso Test accuracy: 99.69183359013869\n",
            "Lasso Average precision-recall score: 1.00\n",
            "Lasso Confusion Matrix Train: \n",
            "[[0.99505995 0.00494005]\n",
            " [0.00196898 0.99803102]]\n",
            "Lasso Confusion Matrix Test: \n",
            "[[9.94944853e-01 5.05514706e-03]\n",
            " [9.79192166e-04 9.99020808e-01]]\n",
            "ExecTime:  4.589835867001966\n",
            "\n",
            "\n",
            "\n",
            "/////// LASSO alpha=0.015///////\n",
            "Lasso Train accuracy: 99.64446083143493\n",
            "Lasso Test accuracy: 99.73924380704041\n",
            "Lasso Average precision-recall score: 1.00\n",
            "Lasso Confusion Matrix Train: \n",
            "[[0.99489049 0.00510951]\n",
            " [0.00191923 0.99808077]]\n",
            "Lasso Confusion Matrix Test: \n",
            "[[0.99601967 0.00398033]\n",
            " [0.00120019 0.99879981]]\n",
            "ExecTime:  4.810822088002169\n",
            "\n",
            "\n",
            "\n"
          ],
          "name": "stdout"
        }
      ]
    },
    {
      "cell_type": "markdown",
      "metadata": {
        "id": "FXxdGBCNAYqk"
      },
      "source": [
        "On fait la moyennne des scores d'accuracy obtenus sur à partir de la cross-validation."
      ]
    },
    {
      "cell_type": "code",
      "metadata": {
        "id": "nHixeI2Lg4xJ",
        "colab": {
          "base_uri": "https://localhost:8080/"
        },
        "outputId": "d677f6da-3692-4f86-eb94-4e88d0d8ba94"
      },
      "source": [
        "test_acc=[]\n",
        "train_acc=[]\n",
        "for l in tab_lasso_kfold:\n",
        "    test_acc.append(metrics.accuracy_score(l['y_test'],l['y_pred_test'])*100)\n",
        "    train_acc.append(metrics.accuracy_score(l['y_train'],l['y_pred_train'])*100)\n",
        "print(\"///////////////Kfold MOYEN////////////////////\")\n",
        "print(\"Lasso Train accuracy: \" + str(np.mean(train_acc)))\n",
        "print(\"Lasso Test accuracy: \" + str(np.mean(test_acc)))    "
      ],
      "execution_count": 8,
      "outputs": [
        {
          "output_type": "stream",
          "text": [
            "///////////////Kfold MOYEN////////////////////\n",
            "Lasso Train accuracy: 99.65499170989501\n",
            "Lasso Test accuracy: 99.65038434554869\n"
          ],
          "name": "stdout"
        }
      ]
    },
    {
      "cell_type": "markdown",
      "metadata": {
        "id": "QU-2bQp_g4xJ"
      },
      "source": [
        "On constate des matrices de confusion et des scores d'accuracy très proches, nous pouvons donc conclure qu'il ny a pas d'overfitting avec ce modèle. Surtout avec une cross-validaiton de 10. Nous pouvons donc valider notre modèle lasso précédement trouvé avec cette valeur de alpha = 0.015."
      ]
    },
    {
      "cell_type": "markdown",
      "metadata": {
        "id": "24Zq3n-Pg4xJ"
      },
      "source": [
        "### Hyperparameter Tuning pour Ridge"
      ]
    },
    {
      "cell_type": "markdown",
      "metadata": {
        "id": "e2aABAZhGE7v"
      },
      "source": [
        "Nous allons voir une autre façons d'optimiser un modèle. Cela consiste à réaliser les mêmes étapes que nous avons vu précédemment. Cette fois-ci nous le faisons pour le modèle Ridge. Nous allons rechercher les meilleurs hyperparamètres pour le modèle avec de la cross-validation. Pour cela nous utilisons deux méthodes:\r\n",
        "> le **GridSearch** de Sklearn qui prend en entrée le model choisis, un dictionnaire des différents hyperparamètres, le nombre de sous-ensemble de la cross-validation.\r\n",
        "\r\n",
        "> le **RandomSearch** de Sklearn qui prend les même paramètres d'entrée que GridSearch mais qui va prendre aléatoirement les valeurs du paramètre de régularisation alpha dans celle qu'on lui a fournit. "
      ]
    },
    {
      "cell_type": "code",
      "metadata": {
        "id": "6ynS6YEDg4xJ",
        "colab": {
          "base_uri": "https://localhost:8080/"
        },
        "outputId": "5d198c22-2910-404e-93d1-c0c630c3739a"
      },
      "source": [
        "alphas = np.logspace(-10, 1, 20)\n",
        "hyperparameters = dict(alpha = alphas)\n",
        "model = RidgeClassifier()\n",
        "clf = GridSearchCV(model, hyperparameters, cv=5, verbose=0)\n",
        "best_model = clf.fit(X,y)\n",
        "print(\"Best Alpha\", best_model.best_estimator_.get_params()[\"alpha\"])\n",
        "#Ici le résultat indique un Alpha égale à 1e-10"
      ],
      "execution_count": 19,
      "outputs": [
        {
          "output_type": "stream",
          "text": [
            "/usr/local/lib/python3.6/dist-packages/sklearn/linear_model/_ridge.py:148: LinAlgWarning: Ill-conditioned matrix (rcond=6.26371e-18): result may not be accurate.\n",
            "  overwrite_a=True).T\n",
            "/usr/local/lib/python3.6/dist-packages/sklearn/linear_model/_ridge.py:148: LinAlgWarning: Ill-conditioned matrix (rcond=1.25132e-17): result may not be accurate.\n",
            "  overwrite_a=True).T\n",
            "/usr/local/lib/python3.6/dist-packages/sklearn/linear_model/_ridge.py:148: LinAlgWarning: Ill-conditioned matrix (rcond=1.58716e-18): result may not be accurate.\n",
            "  overwrite_a=True).T\n",
            "/usr/local/lib/python3.6/dist-packages/sklearn/linear_model/_ridge.py:148: LinAlgWarning: Ill-conditioned matrix (rcond=1.13552e-17): result may not be accurate.\n",
            "  overwrite_a=True).T\n",
            "/usr/local/lib/python3.6/dist-packages/sklearn/linear_model/_ridge.py:148: LinAlgWarning: Ill-conditioned matrix (rcond=8.11497e-18): result may not be accurate.\n",
            "  overwrite_a=True).T\n",
            "/usr/local/lib/python3.6/dist-packages/sklearn/linear_model/_ridge.py:148: LinAlgWarning: Ill-conditioned matrix (rcond=3.9077e-17): result may not be accurate.\n",
            "  overwrite_a=True).T\n",
            "/usr/local/lib/python3.6/dist-packages/sklearn/linear_model/_ridge.py:148: LinAlgWarning: Ill-conditioned matrix (rcond=4.74588e-17): result may not be accurate.\n",
            "  overwrite_a=True).T\n",
            "/usr/local/lib/python3.6/dist-packages/sklearn/linear_model/_ridge.py:148: LinAlgWarning: Ill-conditioned matrix (rcond=3.35546e-17): result may not be accurate.\n",
            "  overwrite_a=True).T\n",
            "/usr/local/lib/python3.6/dist-packages/sklearn/linear_model/_ridge.py:148: LinAlgWarning: Ill-conditioned matrix (rcond=4.69104e-17): result may not be accurate.\n",
            "  overwrite_a=True).T\n",
            "/usr/local/lib/python3.6/dist-packages/sklearn/linear_model/_ridge.py:148: LinAlgWarning: Ill-conditioned matrix (rcond=4.00944e-17): result may not be accurate.\n",
            "  overwrite_a=True).T\n"
          ],
          "name": "stderr"
        },
        {
          "output_type": "stream",
          "text": [
            "Best Alpha 1e-10\n"
          ],
          "name": "stdout"
        },
        {
          "output_type": "stream",
          "text": [
            "/usr/local/lib/python3.6/dist-packages/sklearn/linear_model/_ridge.py:148: LinAlgWarning: Ill-conditioned matrix (rcond=1.01339e-17): result may not be accurate.\n",
            "  overwrite_a=True).T\n"
          ],
          "name": "stderr"
        }
      ]
    },
    {
      "cell_type": "code",
      "metadata": {
        "id": "vETTfn44g4xJ",
        "colab": {
          "base_uri": "https://localhost:8080/"
        },
        "outputId": "2a052c5f-7814-4764-be56-808089dfff34"
      },
      "source": [
        "alphas = np.logspace(-10, 1, 20)\n",
        "hyperparameters = dict(alpha = alphas)\n",
        "rsearch = RandomizedSearchCV(model, hyperparameters, n_iter=10, random_state=41)\n",
        "rsearch.fit(X, y)\n",
        "print(rsearch.best_params_)\n",
        "#En effet on tombe sur la même valeurs de alpha = 1e-10"
      ],
      "execution_count": 18,
      "outputs": [
        {
          "output_type": "stream",
          "text": [
            "{'alpha': 6.158482110660267e-05}\n"
          ],
          "name": "stdout"
        }
      ]
    },
    {
      "cell_type": "markdown",
      "metadata": {
        "id": "v5Ei5Bygg4xK"
      },
      "source": [
        "Nos deux technique de recherche d'Hyperparamètre pour Ridge nous montre la meme conclusion qu'avec LASSO. \n",
        "Le modèle Ridge est déjà très performant sur ce problème et les meilleurs alphas selectionné nous montre des valeurs très proche de zero. Il est donc pas nécéssaire de régularisé ce modèle. Des valeurs de alpha très proches de zero donne de très bon résultat sans overfitting. "
      ]
    },
    {
      "cell_type": "code",
      "metadata": {
        "id": "qe0_K0K2g4xK"
      },
      "source": [
        "#Clear variable:\n",
        "ridge = 0\n",
        "lass = 0\n",
        "lasso = 0\n",
        "svm = 0\n",
        "tab_lasso = 0\n",
        "tab_lasso_kfold = 0"
      ],
      "execution_count": null,
      "outputs": []
    },
    {
      "cell_type": "markdown",
      "metadata": {
        "id": "SK2d1nHyg4xK"
      },
      "source": [
        "# Deuxième Question:\n",
        "Réaliser une classification binaire avec l'une des méthodes linéaire précédent en utilisant la réduction de dimension (ACP par exemple, ou une autre méthode)\n"
      ]
    },
    {
      "cell_type": "markdown",
      "metadata": {
        "id": "weFmApin5L2l"
      },
      "source": [
        "## Réduction de dimension\r\n",
        "\r\n",
        "Pour la réduction de dimension de nos données nous allons utiliser la méthode de l'analyse en composantes principales. Cette analyse va nous permetre de réduire le nombre de variables de notre jeu d'entrainement utilisé afin de diminuer le temps de calcul de la classification. Les variables créés sont une combinaison linéaire de nos ancienne variables. Nous faisons une première ACP sur 100 composant dans un premier temps afin d'identifier les variables les plus importantes que nous devrons garder dans la suite.  "
      ]
    },
    {
      "cell_type": "code",
      "metadata": {
        "id": "QftMjn7wg4xK",
        "outputId": "a0aa5f74-cb49-49af-8b3b-f400f9f18e68"
      },
      "source": [
        "#PCA avec une réduction à 100 n_component\n",
        "pca = PCA(n_components = 100)\n",
        "X_pca = pca.fit_transform(X)   \n",
        "explained_variance = pca.explained_variance_ratio_ \n",
        "print(explained_variance) #Ici on peut voir la variance \"expliqué\" par chaque variable réduite\n"
      ],
      "execution_count": null,
      "outputs": [
        {
          "output_type": "stream",
          "text": [
            "[0.16030628 0.0663639  0.05317713 0.05123404 0.03960218 0.03704974\n",
            " 0.03297275 0.03062289 0.02566717 0.02307861 0.0197429  0.01887309\n",
            " 0.01380858 0.01240486 0.01046423 0.00985208 0.00898408 0.00864658\n",
            " 0.00782963 0.00769488 0.0075722  0.00718166 0.00670741 0.00655848\n",
            " 0.00617729 0.0059141  0.00578946 0.00563653 0.0055292  0.00533833\n",
            " 0.00524912 0.00508698 0.00488919 0.00477237 0.00459624 0.00436974\n",
            " 0.00410742 0.00408146 0.00405914 0.00396085 0.00391737 0.00375907\n",
            " 0.00370578 0.00360951 0.00355543 0.00347555 0.00345828 0.00337733\n",
            " 0.00330026 0.00326353 0.00321195 0.00313749 0.00308166 0.00303064\n",
            " 0.00300895 0.00294371 0.00285277 0.00277869 0.00271659 0.00267072\n",
            " 0.00263523 0.00261096 0.00257236 0.00249867 0.00248775 0.00245963\n",
            " 0.00242037 0.00238539 0.00235772 0.00232408 0.00226104 0.00222627\n",
            " 0.00221528 0.002159   0.0021326  0.0021131  0.00208224 0.00203554\n",
            " 0.00201577 0.00195444 0.00192561 0.00191436 0.00189404 0.00186736\n",
            " 0.00184276 0.00182409 0.0017627  0.00174186 0.00168719 0.0016562\n",
            " 0.00164415 0.00161241 0.00157573 0.00154594 0.00152791 0.00151436\n",
            " 0.0014755  0.00143564 0.0013842  0.00137491]\n"
          ],
          "name": "stdout"
        }
      ]
    },
    {
      "cell_type": "markdown",
      "metadata": {
        "id": "_wCir7FAJXi_"
      },
      "source": [
        "La PCA est une méthode qui permet de créer de nouvelles variables a partir d'une combinaison linéaire de nos anciennes variables. Ces nouvelles variables sont créer de manière à expliquer le plus la variance de notre jeux de donnée initial lorsque l'on projettes ces données sur notre nouvel ensemble de variables. Cela permet d'obtenir des variables linéairement indépendante. La méthode \r\n",
        "\r\n",
        "```\r\n",
        "pca.explained_variance_ratio_\r\n",
        "```\r\n",
        "permet de donner le pourcentage de variance expliqué par chaque nouvelle variables créé de notre ancien jeu de données. \r\n"
      ]
    },
    {
      "cell_type": "code",
      "metadata": {
        "id": "t3423sdUg4xL",
        "outputId": "10d4e78e-f243-4d93-a11a-c096d3183e31"
      },
      "source": [
        "plt.figure(0)\n",
        "plt.plot(range(len(explained_variance)), explained_variance)\n",
        "plt.axvline(x=20, color=\"red\")\n",
        "plt.show()"
      ],
      "execution_count": null,
      "outputs": [
        {
          "output_type": "display_data",
          "data": {
            "application/javascript": [
              "/* Put everything inside the global mpl namespace */\n",
              "/* global mpl */\n",
              "window.mpl = {};\n",
              "\n",
              "mpl.get_websocket_type = function () {\n",
              "    if (typeof WebSocket !== 'undefined') {\n",
              "        return WebSocket;\n",
              "    } else if (typeof MozWebSocket !== 'undefined') {\n",
              "        return MozWebSocket;\n",
              "    } else {\n",
              "        alert(\n",
              "            'Your browser does not have WebSocket support. ' +\n",
              "                'Please try Chrome, Safari or Firefox ≥ 6. ' +\n",
              "                'Firefox 4 and 5 are also supported but you ' +\n",
              "                'have to enable WebSockets in about:config.'\n",
              "        );\n",
              "    }\n",
              "};\n",
              "\n",
              "mpl.figure = function (figure_id, websocket, ondownload, parent_element) {\n",
              "    this.id = figure_id;\n",
              "\n",
              "    this.ws = websocket;\n",
              "\n",
              "    this.supports_binary = this.ws.binaryType !== undefined;\n",
              "\n",
              "    if (!this.supports_binary) {\n",
              "        var warnings = document.getElementById('mpl-warnings');\n",
              "        if (warnings) {\n",
              "            warnings.style.display = 'block';\n",
              "            warnings.textContent =\n",
              "                'This browser does not support binary websocket messages. ' +\n",
              "                'Performance may be slow.';\n",
              "        }\n",
              "    }\n",
              "\n",
              "    this.imageObj = new Image();\n",
              "\n",
              "    this.context = undefined;\n",
              "    this.message = undefined;\n",
              "    this.canvas = undefined;\n",
              "    this.rubberband_canvas = undefined;\n",
              "    this.rubberband_context = undefined;\n",
              "    this.format_dropdown = undefined;\n",
              "\n",
              "    this.image_mode = 'full';\n",
              "\n",
              "    this.root = document.createElement('div');\n",
              "    this.root.setAttribute('style', 'display: inline-block');\n",
              "    this._root_extra_style(this.root);\n",
              "\n",
              "    parent_element.appendChild(this.root);\n",
              "\n",
              "    this._init_header(this);\n",
              "    this._init_canvas(this);\n",
              "    this._init_toolbar(this);\n",
              "\n",
              "    var fig = this;\n",
              "\n",
              "    this.waiting = false;\n",
              "\n",
              "    this.ws.onopen = function () {\n",
              "        fig.send_message('supports_binary', { value: fig.supports_binary });\n",
              "        fig.send_message('send_image_mode', {});\n",
              "        if (fig.ratio !== 1) {\n",
              "            fig.send_message('set_dpi_ratio', { dpi_ratio: fig.ratio });\n",
              "        }\n",
              "        fig.send_message('refresh', {});\n",
              "    };\n",
              "\n",
              "    this.imageObj.onload = function () {\n",
              "        if (fig.image_mode === 'full') {\n",
              "            // Full images could contain transparency (where diff images\n",
              "            // almost always do), so we need to clear the canvas so that\n",
              "            // there is no ghosting.\n",
              "            fig.context.clearRect(0, 0, fig.canvas.width, fig.canvas.height);\n",
              "        }\n",
              "        fig.context.drawImage(fig.imageObj, 0, 0);\n",
              "    };\n",
              "\n",
              "    this.imageObj.onunload = function () {\n",
              "        fig.ws.close();\n",
              "    };\n",
              "\n",
              "    this.ws.onmessage = this._make_on_message_function(this);\n",
              "\n",
              "    this.ondownload = ondownload;\n",
              "};\n",
              "\n",
              "mpl.figure.prototype._init_header = function () {\n",
              "    var titlebar = document.createElement('div');\n",
              "    titlebar.classList =\n",
              "        'ui-dialog-titlebar ui-widget-header ui-corner-all ui-helper-clearfix';\n",
              "    var titletext = document.createElement('div');\n",
              "    titletext.classList = 'ui-dialog-title';\n",
              "    titletext.setAttribute(\n",
              "        'style',\n",
              "        'width: 100%; text-align: center; padding: 3px;'\n",
              "    );\n",
              "    titlebar.appendChild(titletext);\n",
              "    this.root.appendChild(titlebar);\n",
              "    this.header = titletext;\n",
              "};\n",
              "\n",
              "mpl.figure.prototype._canvas_extra_style = function (_canvas_div) {};\n",
              "\n",
              "mpl.figure.prototype._root_extra_style = function (_canvas_div) {};\n",
              "\n",
              "mpl.figure.prototype._init_canvas = function () {\n",
              "    var fig = this;\n",
              "\n",
              "    var canvas_div = (this.canvas_div = document.createElement('div'));\n",
              "    canvas_div.setAttribute(\n",
              "        'style',\n",
              "        'border: 1px solid #ddd;' +\n",
              "            'box-sizing: content-box;' +\n",
              "            'clear: both;' +\n",
              "            'min-height: 1px;' +\n",
              "            'min-width: 1px;' +\n",
              "            'outline: 0;' +\n",
              "            'overflow: hidden;' +\n",
              "            'position: relative;' +\n",
              "            'resize: both;'\n",
              "    );\n",
              "\n",
              "    function on_keyboard_event_closure(name) {\n",
              "        return function (event) {\n",
              "            return fig.key_event(event, name);\n",
              "        };\n",
              "    }\n",
              "\n",
              "    canvas_div.addEventListener(\n",
              "        'keydown',\n",
              "        on_keyboard_event_closure('key_press')\n",
              "    );\n",
              "    canvas_div.addEventListener(\n",
              "        'keyup',\n",
              "        on_keyboard_event_closure('key_release')\n",
              "    );\n",
              "\n",
              "    this._canvas_extra_style(canvas_div);\n",
              "    this.root.appendChild(canvas_div);\n",
              "\n",
              "    var canvas = (this.canvas = document.createElement('canvas'));\n",
              "    canvas.classList.add('mpl-canvas');\n",
              "    canvas.setAttribute('style', 'box-sizing: content-box;');\n",
              "\n",
              "    this.context = canvas.getContext('2d');\n",
              "\n",
              "    var backingStore =\n",
              "        this.context.backingStorePixelRatio ||\n",
              "        this.context.webkitBackingStorePixelRatio ||\n",
              "        this.context.mozBackingStorePixelRatio ||\n",
              "        this.context.msBackingStorePixelRatio ||\n",
              "        this.context.oBackingStorePixelRatio ||\n",
              "        this.context.backingStorePixelRatio ||\n",
              "        1;\n",
              "\n",
              "    this.ratio = (window.devicePixelRatio || 1) / backingStore;\n",
              "    if (this.ratio !== 1) {\n",
              "        fig.send_message('set_dpi_ratio', { dpi_ratio: this.ratio });\n",
              "    }\n",
              "\n",
              "    var rubberband_canvas = (this.rubberband_canvas = document.createElement(\n",
              "        'canvas'\n",
              "    ));\n",
              "    rubberband_canvas.setAttribute(\n",
              "        'style',\n",
              "        'box-sizing: content-box; position: absolute; left: 0; top: 0; z-index: 1;'\n",
              "    );\n",
              "\n",
              "    var resizeObserver = new ResizeObserver(function (entries) {\n",
              "        var nentries = entries.length;\n",
              "        for (var i = 0; i < nentries; i++) {\n",
              "            var entry = entries[i];\n",
              "            var width, height;\n",
              "            if (entry.contentBoxSize) {\n",
              "                if (entry.contentBoxSize instanceof Array) {\n",
              "                    // Chrome 84 implements new version of spec.\n",
              "                    width = entry.contentBoxSize[0].inlineSize;\n",
              "                    height = entry.contentBoxSize[0].blockSize;\n",
              "                } else {\n",
              "                    // Firefox implements old version of spec.\n",
              "                    width = entry.contentBoxSize.inlineSize;\n",
              "                    height = entry.contentBoxSize.blockSize;\n",
              "                }\n",
              "            } else {\n",
              "                // Chrome <84 implements even older version of spec.\n",
              "                width = entry.contentRect.width;\n",
              "                height = entry.contentRect.height;\n",
              "            }\n",
              "\n",
              "            // Keep the size of the canvas and rubber band canvas in sync with\n",
              "            // the canvas container.\n",
              "            if (entry.devicePixelContentBoxSize) {\n",
              "                // Chrome 84 implements new version of spec.\n",
              "                canvas.setAttribute(\n",
              "                    'width',\n",
              "                    entry.devicePixelContentBoxSize[0].inlineSize\n",
              "                );\n",
              "                canvas.setAttribute(\n",
              "                    'height',\n",
              "                    entry.devicePixelContentBoxSize[0].blockSize\n",
              "                );\n",
              "            } else {\n",
              "                canvas.setAttribute('width', width * fig.ratio);\n",
              "                canvas.setAttribute('height', height * fig.ratio);\n",
              "            }\n",
              "            canvas.setAttribute(\n",
              "                'style',\n",
              "                'width: ' + width + 'px; height: ' + height + 'px;'\n",
              "            );\n",
              "\n",
              "            rubberband_canvas.setAttribute('width', width);\n",
              "            rubberband_canvas.setAttribute('height', height);\n",
              "\n",
              "            // And update the size in Python. We ignore the initial 0/0 size\n",
              "            // that occurs as the element is placed into the DOM, which should\n",
              "            // otherwise not happen due to the minimum size styling.\n",
              "            if (width != 0 && height != 0) {\n",
              "                fig.request_resize(width, height);\n",
              "            }\n",
              "        }\n",
              "    });\n",
              "    resizeObserver.observe(canvas_div);\n",
              "\n",
              "    function on_mouse_event_closure(name) {\n",
              "        return function (event) {\n",
              "            return fig.mouse_event(event, name);\n",
              "        };\n",
              "    }\n",
              "\n",
              "    rubberband_canvas.addEventListener(\n",
              "        'mousedown',\n",
              "        on_mouse_event_closure('button_press')\n",
              "    );\n",
              "    rubberband_canvas.addEventListener(\n",
              "        'mouseup',\n",
              "        on_mouse_event_closure('button_release')\n",
              "    );\n",
              "    // Throttle sequential mouse events to 1 every 20ms.\n",
              "    rubberband_canvas.addEventListener(\n",
              "        'mousemove',\n",
              "        on_mouse_event_closure('motion_notify')\n",
              "    );\n",
              "\n",
              "    rubberband_canvas.addEventListener(\n",
              "        'mouseenter',\n",
              "        on_mouse_event_closure('figure_enter')\n",
              "    );\n",
              "    rubberband_canvas.addEventListener(\n",
              "        'mouseleave',\n",
              "        on_mouse_event_closure('figure_leave')\n",
              "    );\n",
              "\n",
              "    canvas_div.addEventListener('wheel', function (event) {\n",
              "        if (event.deltaY < 0) {\n",
              "            event.step = 1;\n",
              "        } else {\n",
              "            event.step = -1;\n",
              "        }\n",
              "        on_mouse_event_closure('scroll')(event);\n",
              "    });\n",
              "\n",
              "    canvas_div.appendChild(canvas);\n",
              "    canvas_div.appendChild(rubberband_canvas);\n",
              "\n",
              "    this.rubberband_context = rubberband_canvas.getContext('2d');\n",
              "    this.rubberband_context.strokeStyle = '#000000';\n",
              "\n",
              "    this._resize_canvas = function (width, height, forward) {\n",
              "        if (forward) {\n",
              "            canvas_div.style.width = width + 'px';\n",
              "            canvas_div.style.height = height + 'px';\n",
              "        }\n",
              "    };\n",
              "\n",
              "    // Disable right mouse context menu.\n",
              "    this.rubberband_canvas.addEventListener('contextmenu', function (_e) {\n",
              "        event.preventDefault();\n",
              "        return false;\n",
              "    });\n",
              "\n",
              "    function set_focus() {\n",
              "        canvas.focus();\n",
              "        canvas_div.focus();\n",
              "    }\n",
              "\n",
              "    window.setTimeout(set_focus, 100);\n",
              "};\n",
              "\n",
              "mpl.figure.prototype._init_toolbar = function () {\n",
              "    var fig = this;\n",
              "\n",
              "    var toolbar = document.createElement('div');\n",
              "    toolbar.classList = 'mpl-toolbar';\n",
              "    this.root.appendChild(toolbar);\n",
              "\n",
              "    function on_click_closure(name) {\n",
              "        return function (_event) {\n",
              "            return fig.toolbar_button_onclick(name);\n",
              "        };\n",
              "    }\n",
              "\n",
              "    function on_mouseover_closure(tooltip) {\n",
              "        return function (event) {\n",
              "            if (!event.currentTarget.disabled) {\n",
              "                return fig.toolbar_button_onmouseover(tooltip);\n",
              "            }\n",
              "        };\n",
              "    }\n",
              "\n",
              "    fig.buttons = {};\n",
              "    var buttonGroup = document.createElement('div');\n",
              "    buttonGroup.classList = 'mpl-button-group';\n",
              "    for (var toolbar_ind in mpl.toolbar_items) {\n",
              "        var name = mpl.toolbar_items[toolbar_ind][0];\n",
              "        var tooltip = mpl.toolbar_items[toolbar_ind][1];\n",
              "        var image = mpl.toolbar_items[toolbar_ind][2];\n",
              "        var method_name = mpl.toolbar_items[toolbar_ind][3];\n",
              "\n",
              "        if (!name) {\n",
              "            /* Instead of a spacer, we start a new button group. */\n",
              "            if (buttonGroup.hasChildNodes()) {\n",
              "                toolbar.appendChild(buttonGroup);\n",
              "            }\n",
              "            buttonGroup = document.createElement('div');\n",
              "            buttonGroup.classList = 'mpl-button-group';\n",
              "            continue;\n",
              "        }\n",
              "\n",
              "        var button = (fig.buttons[name] = document.createElement('button'));\n",
              "        button.classList = 'mpl-widget';\n",
              "        button.setAttribute('role', 'button');\n",
              "        button.setAttribute('aria-disabled', 'false');\n",
              "        button.addEventListener('click', on_click_closure(method_name));\n",
              "        button.addEventListener('mouseover', on_mouseover_closure(tooltip));\n",
              "\n",
              "        var icon_img = document.createElement('img');\n",
              "        icon_img.src = '_images/' + image + '.png';\n",
              "        icon_img.srcset = '_images/' + image + '_large.png 2x';\n",
              "        icon_img.alt = tooltip;\n",
              "        button.appendChild(icon_img);\n",
              "\n",
              "        buttonGroup.appendChild(button);\n",
              "    }\n",
              "\n",
              "    if (buttonGroup.hasChildNodes()) {\n",
              "        toolbar.appendChild(buttonGroup);\n",
              "    }\n",
              "\n",
              "    var fmt_picker = document.createElement('select');\n",
              "    fmt_picker.classList = 'mpl-widget';\n",
              "    toolbar.appendChild(fmt_picker);\n",
              "    this.format_dropdown = fmt_picker;\n",
              "\n",
              "    for (var ind in mpl.extensions) {\n",
              "        var fmt = mpl.extensions[ind];\n",
              "        var option = document.createElement('option');\n",
              "        option.selected = fmt === mpl.default_extension;\n",
              "        option.innerHTML = fmt;\n",
              "        fmt_picker.appendChild(option);\n",
              "    }\n",
              "\n",
              "    var status_bar = document.createElement('span');\n",
              "    status_bar.classList = 'mpl-message';\n",
              "    toolbar.appendChild(status_bar);\n",
              "    this.message = status_bar;\n",
              "};\n",
              "\n",
              "mpl.figure.prototype.request_resize = function (x_pixels, y_pixels) {\n",
              "    // Request matplotlib to resize the figure. Matplotlib will then trigger a resize in the client,\n",
              "    // which will in turn request a refresh of the image.\n",
              "    this.send_message('resize', { width: x_pixels, height: y_pixels });\n",
              "};\n",
              "\n",
              "mpl.figure.prototype.send_message = function (type, properties) {\n",
              "    properties['type'] = type;\n",
              "    properties['figure_id'] = this.id;\n",
              "    this.ws.send(JSON.stringify(properties));\n",
              "};\n",
              "\n",
              "mpl.figure.prototype.send_draw_message = function () {\n",
              "    if (!this.waiting) {\n",
              "        this.waiting = true;\n",
              "        this.ws.send(JSON.stringify({ type: 'draw', figure_id: this.id }));\n",
              "    }\n",
              "};\n",
              "\n",
              "mpl.figure.prototype.handle_save = function (fig, _msg) {\n",
              "    var format_dropdown = fig.format_dropdown;\n",
              "    var format = format_dropdown.options[format_dropdown.selectedIndex].value;\n",
              "    fig.ondownload(fig, format);\n",
              "};\n",
              "\n",
              "mpl.figure.prototype.handle_resize = function (fig, msg) {\n",
              "    var size = msg['size'];\n",
              "    if (size[0] !== fig.canvas.width || size[1] !== fig.canvas.height) {\n",
              "        fig._resize_canvas(size[0], size[1], msg['forward']);\n",
              "        fig.send_message('refresh', {});\n",
              "    }\n",
              "};\n",
              "\n",
              "mpl.figure.prototype.handle_rubberband = function (fig, msg) {\n",
              "    var x0 = msg['x0'] / fig.ratio;\n",
              "    var y0 = (fig.canvas.height - msg['y0']) / fig.ratio;\n",
              "    var x1 = msg['x1'] / fig.ratio;\n",
              "    var y1 = (fig.canvas.height - msg['y1']) / fig.ratio;\n",
              "    x0 = Math.floor(x0) + 0.5;\n",
              "    y0 = Math.floor(y0) + 0.5;\n",
              "    x1 = Math.floor(x1) + 0.5;\n",
              "    y1 = Math.floor(y1) + 0.5;\n",
              "    var min_x = Math.min(x0, x1);\n",
              "    var min_y = Math.min(y0, y1);\n",
              "    var width = Math.abs(x1 - x0);\n",
              "    var height = Math.abs(y1 - y0);\n",
              "\n",
              "    fig.rubberband_context.clearRect(\n",
              "        0,\n",
              "        0,\n",
              "        fig.canvas.width / fig.ratio,\n",
              "        fig.canvas.height / fig.ratio\n",
              "    );\n",
              "\n",
              "    fig.rubberband_context.strokeRect(min_x, min_y, width, height);\n",
              "};\n",
              "\n",
              "mpl.figure.prototype.handle_figure_label = function (fig, msg) {\n",
              "    // Updates the figure title.\n",
              "    fig.header.textContent = msg['label'];\n",
              "};\n",
              "\n",
              "mpl.figure.prototype.handle_cursor = function (fig, msg) {\n",
              "    var cursor = msg['cursor'];\n",
              "    switch (cursor) {\n",
              "        case 0:\n",
              "            cursor = 'pointer';\n",
              "            break;\n",
              "        case 1:\n",
              "            cursor = 'default';\n",
              "            break;\n",
              "        case 2:\n",
              "            cursor = 'crosshair';\n",
              "            break;\n",
              "        case 3:\n",
              "            cursor = 'move';\n",
              "            break;\n",
              "    }\n",
              "    fig.rubberband_canvas.style.cursor = cursor;\n",
              "};\n",
              "\n",
              "mpl.figure.prototype.handle_message = function (fig, msg) {\n",
              "    fig.message.textContent = msg['message'];\n",
              "};\n",
              "\n",
              "mpl.figure.prototype.handle_draw = function (fig, _msg) {\n",
              "    // Request the server to send over a new figure.\n",
              "    fig.send_draw_message();\n",
              "};\n",
              "\n",
              "mpl.figure.prototype.handle_image_mode = function (fig, msg) {\n",
              "    fig.image_mode = msg['mode'];\n",
              "};\n",
              "\n",
              "mpl.figure.prototype.handle_history_buttons = function (fig, msg) {\n",
              "    for (var key in msg) {\n",
              "        if (!(key in fig.buttons)) {\n",
              "            continue;\n",
              "        }\n",
              "        fig.buttons[key].disabled = !msg[key];\n",
              "        fig.buttons[key].setAttribute('aria-disabled', !msg[key]);\n",
              "    }\n",
              "};\n",
              "\n",
              "mpl.figure.prototype.handle_navigate_mode = function (fig, msg) {\n",
              "    if (msg['mode'] === 'PAN') {\n",
              "        fig.buttons['Pan'].classList.add('active');\n",
              "        fig.buttons['Zoom'].classList.remove('active');\n",
              "    } else if (msg['mode'] === 'ZOOM') {\n",
              "        fig.buttons['Pan'].classList.remove('active');\n",
              "        fig.buttons['Zoom'].classList.add('active');\n",
              "    } else {\n",
              "        fig.buttons['Pan'].classList.remove('active');\n",
              "        fig.buttons['Zoom'].classList.remove('active');\n",
              "    }\n",
              "};\n",
              "\n",
              "mpl.figure.prototype.updated_canvas_event = function () {\n",
              "    // Called whenever the canvas gets updated.\n",
              "    this.send_message('ack', {});\n",
              "};\n",
              "\n",
              "// A function to construct a web socket function for onmessage handling.\n",
              "// Called in the figure constructor.\n",
              "mpl.figure.prototype._make_on_message_function = function (fig) {\n",
              "    return function socket_on_message(evt) {\n",
              "        if (evt.data instanceof Blob) {\n",
              "            /* FIXME: We get \"Resource interpreted as Image but\n",
              "             * transferred with MIME type text/plain:\" errors on\n",
              "             * Chrome.  But how to set the MIME type?  It doesn't seem\n",
              "             * to be part of the websocket stream */\n",
              "            evt.data.type = 'image/png';\n",
              "\n",
              "            /* Free the memory for the previous frames */\n",
              "            if (fig.imageObj.src) {\n",
              "                (window.URL || window.webkitURL).revokeObjectURL(\n",
              "                    fig.imageObj.src\n",
              "                );\n",
              "            }\n",
              "\n",
              "            fig.imageObj.src = (window.URL || window.webkitURL).createObjectURL(\n",
              "                evt.data\n",
              "            );\n",
              "            fig.updated_canvas_event();\n",
              "            fig.waiting = false;\n",
              "            return;\n",
              "        } else if (\n",
              "            typeof evt.data === 'string' &&\n",
              "            evt.data.slice(0, 21) === 'data:image/png;base64'\n",
              "        ) {\n",
              "            fig.imageObj.src = evt.data;\n",
              "            fig.updated_canvas_event();\n",
              "            fig.waiting = false;\n",
              "            return;\n",
              "        }\n",
              "\n",
              "        var msg = JSON.parse(evt.data);\n",
              "        var msg_type = msg['type'];\n",
              "\n",
              "        // Call the  \"handle_{type}\" callback, which takes\n",
              "        // the figure and JSON message as its only arguments.\n",
              "        try {\n",
              "            var callback = fig['handle_' + msg_type];\n",
              "        } catch (e) {\n",
              "            console.log(\n",
              "                \"No handler for the '\" + msg_type + \"' message type: \",\n",
              "                msg\n",
              "            );\n",
              "            return;\n",
              "        }\n",
              "\n",
              "        if (callback) {\n",
              "            try {\n",
              "                // console.log(\"Handling '\" + msg_type + \"' message: \", msg);\n",
              "                callback(fig, msg);\n",
              "            } catch (e) {\n",
              "                console.log(\n",
              "                    \"Exception inside the 'handler_\" + msg_type + \"' callback:\",\n",
              "                    e,\n",
              "                    e.stack,\n",
              "                    msg\n",
              "                );\n",
              "            }\n",
              "        }\n",
              "    };\n",
              "};\n",
              "\n",
              "// from http://stackoverflow.com/questions/1114465/getting-mouse-location-in-canvas\n",
              "mpl.findpos = function (e) {\n",
              "    //this section is from http://www.quirksmode.org/js/events_properties.html\n",
              "    var targ;\n",
              "    if (!e) {\n",
              "        e = window.event;\n",
              "    }\n",
              "    if (e.target) {\n",
              "        targ = e.target;\n",
              "    } else if (e.srcElement) {\n",
              "        targ = e.srcElement;\n",
              "    }\n",
              "    if (targ.nodeType === 3) {\n",
              "        // defeat Safari bug\n",
              "        targ = targ.parentNode;\n",
              "    }\n",
              "\n",
              "    // pageX,Y are the mouse positions relative to the document\n",
              "    var boundingRect = targ.getBoundingClientRect();\n",
              "    var x = e.pageX - (boundingRect.left + document.body.scrollLeft);\n",
              "    var y = e.pageY - (boundingRect.top + document.body.scrollTop);\n",
              "\n",
              "    return { x: x, y: y };\n",
              "};\n",
              "\n",
              "/*\n",
              " * return a copy of an object with only non-object keys\n",
              " * we need this to avoid circular references\n",
              " * http://stackoverflow.com/a/24161582/3208463\n",
              " */\n",
              "function simpleKeys(original) {\n",
              "    return Object.keys(original).reduce(function (obj, key) {\n",
              "        if (typeof original[key] !== 'object') {\n",
              "            obj[key] = original[key];\n",
              "        }\n",
              "        return obj;\n",
              "    }, {});\n",
              "}\n",
              "\n",
              "mpl.figure.prototype.mouse_event = function (event, name) {\n",
              "    var canvas_pos = mpl.findpos(event);\n",
              "\n",
              "    if (name === 'button_press') {\n",
              "        this.canvas.focus();\n",
              "        this.canvas_div.focus();\n",
              "    }\n",
              "\n",
              "    var x = canvas_pos.x * this.ratio;\n",
              "    var y = canvas_pos.y * this.ratio;\n",
              "\n",
              "    this.send_message(name, {\n",
              "        x: x,\n",
              "        y: y,\n",
              "        button: event.button,\n",
              "        step: event.step,\n",
              "        guiEvent: simpleKeys(event),\n",
              "    });\n",
              "\n",
              "    /* This prevents the web browser from automatically changing to\n",
              "     * the text insertion cursor when the button is pressed.  We want\n",
              "     * to control all of the cursor setting manually through the\n",
              "     * 'cursor' event from matplotlib */\n",
              "    event.preventDefault();\n",
              "    return false;\n",
              "};\n",
              "\n",
              "mpl.figure.prototype._key_event_extra = function (_event, _name) {\n",
              "    // Handle any extra behaviour associated with a key event\n",
              "};\n",
              "\n",
              "mpl.figure.prototype.key_event = function (event, name) {\n",
              "    // Prevent repeat events\n",
              "    if (name === 'key_press') {\n",
              "        if (event.which === this._key) {\n",
              "            return;\n",
              "        } else {\n",
              "            this._key = event.which;\n",
              "        }\n",
              "    }\n",
              "    if (name === 'key_release') {\n",
              "        this._key = null;\n",
              "    }\n",
              "\n",
              "    var value = '';\n",
              "    if (event.ctrlKey && event.which !== 17) {\n",
              "        value += 'ctrl+';\n",
              "    }\n",
              "    if (event.altKey && event.which !== 18) {\n",
              "        value += 'alt+';\n",
              "    }\n",
              "    if (event.shiftKey && event.which !== 16) {\n",
              "        value += 'shift+';\n",
              "    }\n",
              "\n",
              "    value += 'k';\n",
              "    value += event.which.toString();\n",
              "\n",
              "    this._key_event_extra(event, name);\n",
              "\n",
              "    this.send_message(name, { key: value, guiEvent: simpleKeys(event) });\n",
              "    return false;\n",
              "};\n",
              "\n",
              "mpl.figure.prototype.toolbar_button_onclick = function (name) {\n",
              "    if (name === 'download') {\n",
              "        this.handle_save(this, null);\n",
              "    } else {\n",
              "        this.send_message('toolbar_button', { name: name });\n",
              "    }\n",
              "};\n",
              "\n",
              "mpl.figure.prototype.toolbar_button_onmouseover = function (tooltip) {\n",
              "    this.message.textContent = tooltip;\n",
              "};\n",
              "mpl.toolbar_items = [[\"Home\", \"Reset original view\", \"fa fa-home icon-home\", \"home\"], [\"Back\", \"Back to previous view\", \"fa fa-arrow-left icon-arrow-left\", \"back\"], [\"Forward\", \"Forward to next view\", \"fa fa-arrow-right icon-arrow-right\", \"forward\"], [\"\", \"\", \"\", \"\"], [\"Pan\", \"Left button pans, Right button zooms\\nx/y fixes axis, CTRL fixes aspect\", \"fa fa-arrows icon-move\", \"pan\"], [\"Zoom\", \"Zoom to rectangle\\nx/y fixes axis, CTRL fixes aspect\", \"fa fa-square-o icon-check-empty\", \"zoom\"], [\"\", \"\", \"\", \"\"], [\"Download\", \"Download plot\", \"fa fa-floppy-o icon-save\", \"download\"]];\n",
              "\n",
              "mpl.extensions = [\"eps\", \"jpeg\", \"pdf\", \"png\", \"ps\", \"raw\", \"svg\", \"tif\"];\n",
              "\n",
              "mpl.default_extension = \"png\";/* global mpl */\n",
              "\n",
              "var comm_websocket_adapter = function (comm) {\n",
              "    // Create a \"websocket\"-like object which calls the given IPython comm\n",
              "    // object with the appropriate methods. Currently this is a non binary\n",
              "    // socket, so there is still some room for performance tuning.\n",
              "    var ws = {};\n",
              "\n",
              "    ws.close = function () {\n",
              "        comm.close();\n",
              "    };\n",
              "    ws.send = function (m) {\n",
              "        //console.log('sending', m);\n",
              "        comm.send(m);\n",
              "    };\n",
              "    // Register the callback with on_msg.\n",
              "    comm.on_msg(function (msg) {\n",
              "        //console.log('receiving', msg['content']['data'], msg);\n",
              "        // Pass the mpl event to the overridden (by mpl) onmessage function.\n",
              "        ws.onmessage(msg['content']['data']);\n",
              "    });\n",
              "    return ws;\n",
              "};\n",
              "\n",
              "mpl.mpl_figure_comm = function (comm, msg) {\n",
              "    // This is the function which gets called when the mpl process\n",
              "    // starts-up an IPython Comm through the \"matplotlib\" channel.\n",
              "\n",
              "    var id = msg.content.data.id;\n",
              "    // Get hold of the div created by the display call when the Comm\n",
              "    // socket was opened in Python.\n",
              "    var element = document.getElementById(id);\n",
              "    var ws_proxy = comm_websocket_adapter(comm);\n",
              "\n",
              "    function ondownload(figure, _format) {\n",
              "        window.open(figure.canvas.toDataURL());\n",
              "    }\n",
              "\n",
              "    var fig = new mpl.figure(id, ws_proxy, ondownload, element);\n",
              "\n",
              "    // Call onopen now - mpl needs it, as it is assuming we've passed it a real\n",
              "    // web socket which is closed, not our websocket->open comm proxy.\n",
              "    ws_proxy.onopen();\n",
              "\n",
              "    fig.parent_element = element;\n",
              "    fig.cell_info = mpl.find_output_cell(\"<div id='\" + id + \"'></div>\");\n",
              "    if (!fig.cell_info) {\n",
              "        console.error('Failed to find cell for figure', id, fig);\n",
              "        return;\n",
              "    }\n",
              "    fig.cell_info[0].output_area.element.one(\n",
              "        'cleared',\n",
              "        { fig: fig },\n",
              "        fig._remove_fig_handler\n",
              "    );\n",
              "};\n",
              "\n",
              "mpl.figure.prototype.handle_close = function (fig, msg) {\n",
              "    var width = fig.canvas.width / fig.ratio;\n",
              "    fig.cell_info[0].output_area.element.off(\n",
              "        'cleared',\n",
              "        fig._remove_fig_handler\n",
              "    );\n",
              "\n",
              "    // Update the output cell to use the data from the current canvas.\n",
              "    fig.push_to_output();\n",
              "    var dataURL = fig.canvas.toDataURL();\n",
              "    // Re-enable the keyboard manager in IPython - without this line, in FF,\n",
              "    // the notebook keyboard shortcuts fail.\n",
              "    IPython.keyboard_manager.enable();\n",
              "    fig.parent_element.innerHTML =\n",
              "        '<img src=\"' + dataURL + '\" width=\"' + width + '\">';\n",
              "    fig.close_ws(fig, msg);\n",
              "};\n",
              "\n",
              "mpl.figure.prototype.close_ws = function (fig, msg) {\n",
              "    fig.send_message('closing', msg);\n",
              "    // fig.ws.close()\n",
              "};\n",
              "\n",
              "mpl.figure.prototype.push_to_output = function (_remove_interactive) {\n",
              "    // Turn the data on the canvas into data in the output cell.\n",
              "    var width = this.canvas.width / this.ratio;\n",
              "    var dataURL = this.canvas.toDataURL();\n",
              "    this.cell_info[1]['text/html'] =\n",
              "        '<img src=\"' + dataURL + '\" width=\"' + width + '\">';\n",
              "};\n",
              "\n",
              "mpl.figure.prototype.updated_canvas_event = function () {\n",
              "    // Tell IPython that the notebook contents must change.\n",
              "    IPython.notebook.set_dirty(true);\n",
              "    this.send_message('ack', {});\n",
              "    var fig = this;\n",
              "    // Wait a second, then push the new image to the DOM so\n",
              "    // that it is saved nicely (might be nice to debounce this).\n",
              "    setTimeout(function () {\n",
              "        fig.push_to_output();\n",
              "    }, 1000);\n",
              "};\n",
              "\n",
              "mpl.figure.prototype._init_toolbar = function () {\n",
              "    var fig = this;\n",
              "\n",
              "    var toolbar = document.createElement('div');\n",
              "    toolbar.classList = 'btn-toolbar';\n",
              "    this.root.appendChild(toolbar);\n",
              "\n",
              "    function on_click_closure(name) {\n",
              "        return function (_event) {\n",
              "            return fig.toolbar_button_onclick(name);\n",
              "        };\n",
              "    }\n",
              "\n",
              "    function on_mouseover_closure(tooltip) {\n",
              "        return function (event) {\n",
              "            if (!event.currentTarget.disabled) {\n",
              "                return fig.toolbar_button_onmouseover(tooltip);\n",
              "            }\n",
              "        };\n",
              "    }\n",
              "\n",
              "    fig.buttons = {};\n",
              "    var buttonGroup = document.createElement('div');\n",
              "    buttonGroup.classList = 'btn-group';\n",
              "    var button;\n",
              "    for (var toolbar_ind in mpl.toolbar_items) {\n",
              "        var name = mpl.toolbar_items[toolbar_ind][0];\n",
              "        var tooltip = mpl.toolbar_items[toolbar_ind][1];\n",
              "        var image = mpl.toolbar_items[toolbar_ind][2];\n",
              "        var method_name = mpl.toolbar_items[toolbar_ind][3];\n",
              "\n",
              "        if (!name) {\n",
              "            /* Instead of a spacer, we start a new button group. */\n",
              "            if (buttonGroup.hasChildNodes()) {\n",
              "                toolbar.appendChild(buttonGroup);\n",
              "            }\n",
              "            buttonGroup = document.createElement('div');\n",
              "            buttonGroup.classList = 'btn-group';\n",
              "            continue;\n",
              "        }\n",
              "\n",
              "        button = fig.buttons[name] = document.createElement('button');\n",
              "        button.classList = 'btn btn-default';\n",
              "        button.href = '#';\n",
              "        button.title = name;\n",
              "        button.innerHTML = '<i class=\"fa ' + image + ' fa-lg\"></i>';\n",
              "        button.addEventListener('click', on_click_closure(method_name));\n",
              "        button.addEventListener('mouseover', on_mouseover_closure(tooltip));\n",
              "        buttonGroup.appendChild(button);\n",
              "    }\n",
              "\n",
              "    if (buttonGroup.hasChildNodes()) {\n",
              "        toolbar.appendChild(buttonGroup);\n",
              "    }\n",
              "\n",
              "    // Add the status bar.\n",
              "    var status_bar = document.createElement('span');\n",
              "    status_bar.classList = 'mpl-message pull-right';\n",
              "    toolbar.appendChild(status_bar);\n",
              "    this.message = status_bar;\n",
              "\n",
              "    // Add the close button to the window.\n",
              "    var buttongrp = document.createElement('div');\n",
              "    buttongrp.classList = 'btn-group inline pull-right';\n",
              "    button = document.createElement('button');\n",
              "    button.classList = 'btn btn-mini btn-primary';\n",
              "    button.href = '#';\n",
              "    button.title = 'Stop Interaction';\n",
              "    button.innerHTML = '<i class=\"fa fa-power-off icon-remove icon-large\"></i>';\n",
              "    button.addEventListener('click', function (_evt) {\n",
              "        fig.handle_close(fig, {});\n",
              "    });\n",
              "    button.addEventListener(\n",
              "        'mouseover',\n",
              "        on_mouseover_closure('Stop Interaction')\n",
              "    );\n",
              "    buttongrp.appendChild(button);\n",
              "    var titlebar = this.root.querySelector('.ui-dialog-titlebar');\n",
              "    titlebar.insertBefore(buttongrp, titlebar.firstChild);\n",
              "};\n",
              "\n",
              "mpl.figure.prototype._remove_fig_handler = function (event) {\n",
              "    var fig = event.data.fig;\n",
              "    fig.close_ws(fig, {});\n",
              "};\n",
              "\n",
              "mpl.figure.prototype._root_extra_style = function (el) {\n",
              "    el.style.boxSizing = 'content-box'; // override notebook setting of border-box.\n",
              "};\n",
              "\n",
              "mpl.figure.prototype._canvas_extra_style = function (el) {\n",
              "    // this is important to make the div 'focusable\n",
              "    el.setAttribute('tabindex', 0);\n",
              "    // reach out to IPython and tell the keyboard manager to turn it's self\n",
              "    // off when our div gets focus\n",
              "\n",
              "    // location in version 3\n",
              "    if (IPython.notebook.keyboard_manager) {\n",
              "        IPython.notebook.keyboard_manager.register_events(el);\n",
              "    } else {\n",
              "        // location in version 2\n",
              "        IPython.keyboard_manager.register_events(el);\n",
              "    }\n",
              "};\n",
              "\n",
              "mpl.figure.prototype._key_event_extra = function (event, _name) {\n",
              "    var manager = IPython.notebook.keyboard_manager;\n",
              "    if (!manager) {\n",
              "        manager = IPython.keyboard_manager;\n",
              "    }\n",
              "\n",
              "    // Check for shift+enter\n",
              "    if (event.shiftKey && event.which === 13) {\n",
              "        this.canvas_div.blur();\n",
              "        // select the cell after this one\n",
              "        var index = IPython.notebook.find_cell_index(this.cell_info[0]);\n",
              "        IPython.notebook.select(index + 1);\n",
              "    }\n",
              "};\n",
              "\n",
              "mpl.figure.prototype.handle_save = function (fig, _msg) {\n",
              "    fig.ondownload(fig, null);\n",
              "};\n",
              "\n",
              "mpl.find_output_cell = function (html_output) {\n",
              "    // Return the cell and output element which can be found *uniquely* in the notebook.\n",
              "    // Note - this is a bit hacky, but it is done because the \"notebook_saving.Notebook\"\n",
              "    // IPython event is triggered only after the cells have been serialised, which for\n",
              "    // our purposes (turning an active figure into a static one), is too late.\n",
              "    var cells = IPython.notebook.get_cells();\n",
              "    var ncells = cells.length;\n",
              "    for (var i = 0; i < ncells; i++) {\n",
              "        var cell = cells[i];\n",
              "        if (cell.cell_type === 'code') {\n",
              "            for (var j = 0; j < cell.output_area.outputs.length; j++) {\n",
              "                var data = cell.output_area.outputs[j];\n",
              "                if (data.data) {\n",
              "                    // IPython >= 3 moved mimebundle to data attribute of output\n",
              "                    data = data.data;\n",
              "                }\n",
              "                if (data['text/html'] === html_output) {\n",
              "                    return [cell, data, j];\n",
              "                }\n",
              "            }\n",
              "        }\n",
              "    }\n",
              "};\n",
              "\n",
              "// Register the function which deals with the matplotlib target/channel.\n",
              "// The kernel may be null if the page has been refreshed.\n",
              "if (IPython.notebook.kernel !== null) {\n",
              "    IPython.notebook.kernel.comm_manager.register_target(\n",
              "        'matplotlib',\n",
              "        mpl.mpl_figure_comm\n",
              "    );\n",
              "}\n"
            ],
            "text/plain": [
              "<IPython.core.display.Javascript object>"
            ]
          },
          "metadata": {
            "tags": []
          }
        },
        {
          "output_type": "display_data",
          "data": {
            "text/html": [
              "<img src=\"data:image/png;base64,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\" width=\"431.99997940063577\">"
            ],
            "text/plain": [
              "<IPython.core.display.HTML object>"
            ]
          },
          "metadata": {
            "tags": []
          }
        }
      ]
    },
    {
      "cell_type": "markdown",
      "metadata": {
        "id": "6F3z1kf-g4xL"
      },
      "source": [
        "On utilise le Critère du coude afin de déterminer le nombre de variables min à utiliser. On observe un décrochement suivi d'une décroisance régulière. A partir de ce décrochement il n'est pas nécéssaire de garder les variables d'après.\n",
        "\n",
        "Ce décrochement est observé autour de 20. Dans la suite nous ferons donc une ACP pour ne garder que 20 variables. "
      ]
    },
    {
      "cell_type": "code",
      "metadata": {
        "id": "xHdaCrCbg4xM",
        "colab": {
          "base_uri": "https://localhost:8080/"
        },
        "outputId": "c2312e92-c287-4387-b942-6585870dc586"
      },
      "source": [
        "#On tente une PCA avec 20\n",
        "pca = PCA(n_components = 20)\n",
        "X_pca = pca.fit_transform(X) \n",
        "#X_test = pca.transform(X_test)  \n",
        "explained_variance = pca.explained_variance_ratio_ \n",
        "print(explained_variance)"
      ],
      "execution_count": 21,
      "outputs": [
        {
          "output_type": "stream",
          "text": [
            "[0.16030628 0.0663639  0.05317713 0.05123404 0.03960218 0.03704974\n",
            " 0.03297275 0.03062289 0.02566717 0.02307861 0.0197429  0.01887309\n",
            " 0.01380856 0.01240481 0.01046408 0.00985192 0.00898213 0.00864569\n",
            " 0.00782757 0.00769066]\n"
          ],
          "name": "stdout"
        }
      ]
    },
    {
      "cell_type": "code",
      "metadata": {
        "id": "gWXZrMarg4xM",
        "colab": {
          "base_uri": "https://localhost:8080/"
        },
        "outputId": "39207f45-f845-4289-ab6c-a9f2543181b5"
      },
      "source": [
        "np.sum(explained_variance)"
      ],
      "execution_count": 22,
      "outputs": [
        {
          "output_type": "execute_result",
          "data": {
            "text/plain": [
              "0.6383661061225285"
            ]
          },
          "metadata": {
            "tags": []
          },
          "execution_count": 22
        }
      ]
    },
    {
      "cell_type": "markdown",
      "metadata": {
        "id": "vI0rI8CGg4xN"
      },
      "source": [
        "Avec ces 20 PCA on peut expliqué environ 64% de la variance de notre jeu de donnée. Maintenant nous allons voir l'impact de cette perte pour le modèle Lasso."
      ]
    },
    {
      "cell_type": "code",
      "metadata": {
        "id": "bJ_dCC12g4xN",
        "colab": {
          "base_uri": "https://localhost:8080/"
        },
        "outputId": "59b554bc-10e5-49d2-9e70-ce52773771e1"
      },
      "source": [
        "# ici pour le Lasso le modéle avait été réalisé optisé sur une autre machine \n",
        "# mais la valeur du alpha utilisé ici étant inférieur à celle précédemment utilisé\n",
        "# nous avons \n",
        "alpha = 0.015\n",
        "lasso = mon_Lasso(X_pca, y, alpha)"
      ],
      "execution_count": 23,
      "outputs": [
        {
          "output_type": "stream",
          "text": [
            "/////// LASSO alpha=0.015///////\n",
            "Lasso Train accuracy: 99.48879415562591\n",
            "Lasso Test accuracy: 99.52594720775723\n",
            "Lasso Average precision-recall score: 0.99\n",
            "Lasso Confusion Matrix Train: \n",
            "[[0.99299299 0.00700701]\n",
            " [0.00312024 0.99687976]]\n",
            "Lasso Confusion Matrix Test: \n",
            "[[0.99319155 0.00680845]\n",
            " [0.00257391 0.99742609]]\n",
            "ExecTime:  0.06194072400103323\n",
            "\n",
            "\n",
            "\n"
          ],
          "name": "stdout"
        }
      ]
    },
    {
      "cell_type": "markdown",
      "metadata": {
        "id": "A00FBY4nOO9m"
      },
      "source": [
        "Nous pouvons voir que le modèle Lasso présente toujours de trés bonne performances et nous avons divisé le temps d'exécution par six. "
      ]
    },
    {
      "cell_type": "code",
      "metadata": {
        "id": "VZYshV0_g4xN",
        "colab": {
          "base_uri": "https://localhost:8080/",
          "height": 295
        },
        "outputId": "01379223-d5da-45f7-ed26-27a5f1cda019"
      },
      "source": [
        "#On peut observé l'importance de la première features\n",
        "plt.bar(range(len(lasso[\"model\"].coef_)), lasso[\"model\"].coef_)\n",
        "plt.title(\"Coefficient par variables\")\n",
        "plt.xlabel('Variables')\n",
        "plt.ylabel('Coefficient')\n",
        "plt.show()"
      ],
      "execution_count": 25,
      "outputs": [
        {
          "output_type": "display_data",
          "data": {
            "image/png": "[encoded data removed]",
            "text/plain": [
              "<Figure size 432x288 with 1 Axes>"
            ]
          },
          "metadata": {
            "tags": [],
            "needs_background": "light"
          }
        }
      ]
    },
    {
      "cell_type": "markdown",
      "metadata": {
        "id": "9hTLwYsjPc5t"
      },
      "source": [
        "Ce graphique permet de voir l'importance de chaque nouvelles variables dans la prédiction réalisé par le modèle Lasso à partir des jeux de données avec les nouvelles variables. Nous pouvons voir que la première variables (celle qui expliquer 16% de la variance de notre ancien jeux de donnée) est la variable la plus prise en compte par notre modèle. C'est donc la variable la plus pertinentes i.e c'elle qui permet de mieux faire la différence entre les deux langues. "
      ]
    },
    {
      "cell_type": "markdown",
      "metadata": {
        "id": "L2qKOcq5QtaU"
      },
      "source": [
        "Dans la suite nous représentons le jeux de données en fonction des deux et trois premières variables issue de l'ACP respectivement par des nuages de point sur des graphes en 2D et en 3D. Les jeux de données sont classé en fonction de leurs langues. "
      ]
    },
    {
      "cell_type": "code",
      "metadata": {
        "id": "wqxk2Lp2g4xN",
        "colab": {
          "base_uri": "https://localhost:8080/",
          "height": 583
        },
        "outputId": "1aac8adc-754e-4b75-d87b-0e0b51f3e328"
      },
      "source": [
        "Xldr = lasso['X_test'][:,0]\n",
        "Yldr = lasso['X_test'][:,1]\n",
        "Zldr = lasso['X_test'][:,2]\n",
        "n = lasso['X_test'].shape[0]\n",
        "d = lasso['X_test'].shape[1]\n",
        "Cgt = lasso['y_test']\n",
        "\n",
        "\n",
        "# 2D Plot\n",
        "plt.figure(0)\n",
        "size_vertex_plot = 50\n",
        "plt.scatter(Xldr, Yldr, s=size_vertex_plot*np.ones(n), c=Cgt,alpha=0.3)\n",
        "plt.title('2D Visualization of FR/EN with PCA') \n",
        "plt.show()\n",
        "\n",
        "# 3D Plot\n",
        "fig = pylab.figure(2)\n",
        "ax = Axes3D(fig)\n",
        "size_vertex_plot = 50\n",
        "ax.scatter(Xldr, Yldr, Zldr, s=size_vertex_plot*np.ones(n), c=Cgt, alpha=0.3)\n",
        "plt.title('3D Visualization of FR/EN with PCA') \n",
        "pyplot.show() \n",
        "\n"
      ],
      "execution_count": 33,
      "outputs": [
        {
          "output_type": "display_data",
          "data": {
            "image/png": "[encoded data removed]",
            "text/plain": [
              "<Figure size 432x288 with 1 Axes>"
            ]
          },
          "metadata": {
            "tags": [],
            "needs_background": "light"
          }
        },
        {
          "output_type": "display_data",
          "data": {
            "image/png": "[encoded data removed]",
            "text/plain": [
              "<Figure size 432x288 with 1 Axes>"
            ]
          },
          "metadata": {
            "tags": [],
            "needs_background": "light"
          }
        }
      ]
    },
    {
      "cell_type": "markdown",
      "metadata": {
        "id": "IBAibGdARFbh"
      },
      "source": [
        "Sur les deux graphes ci-dessus nous pouvons voir que les données sont bien séparé en deux nuages de point, le jaune représentant la langue française et le violet l'espagnol. Nous pouvons voir que l'ACP à permit de séparé les deux langues en deux nuages de point distinct. C'est en réalisant cette opération que nous améliorons les performances de notre modèle. "
      ]
    },
    {
      "cell_type": "markdown",
      "metadata": {
        "id": "aCpC1fQ2VbdM"
      },
      "source": [
        "Regardons d'un peu plus prés les valeurs prédite par le modèle sur un graphe en 2D en ne prenant que la première variable et sur un graphe en 3D en prenant les deux premières variables."
      ]
    },
    {
      "cell_type": "code",
      "metadata": {
        "id": "3bRsfi9pg4xO",
        "colab": {
          "base_uri": "https://localhost:8080/",
          "height": 583
        },
        "outputId": "a8004f9e-2cbf-4a21-f9e1-a8d607f44294"
      },
      "source": [
        "X_moyen_0 = Xldr[lasso['y_pred_test'] == 0].mean()\n",
        "Y_moyen_0 = Yldr[lasso['y_pred_test'] == 0].mean()\n",
        "X_moyen_1 = Xldr[lasso['y_pred_test'] == 1].mean()\n",
        "Y_moyen_1 = Yldr[lasso['y_pred_test'] == 0].mean()\n",
        "\n",
        "plt.figure(0)\n",
        "size_vertex_plot = 50\n",
        "plt.scatter(Xldr, lasso['y_pred_test'], s=size_vertex_plot*np.ones(n), c=Cgt, alpha=0.3)\n",
        "plt.title('2D Visualization of FR/EN with PCA') \n",
        "plt.show()\n",
        "\n",
        "fig = pylab.figure(2)\n",
        "ax = Axes3D(fig)\n",
        "size_vertex_plot = 50\n",
        "ax.scatter(Xldr, Yldr, lasso['y_pred_test'], s=size_vertex_plot*np.ones(n), c=Cgt)\n",
        "ax.plot([X_moyen_0,X_moyen_1],[Y_moyen_0,Y_moyen_1],[0,1], lw = 3, color= \"Black\")\n",
        "plt.title('3D Visualization of FR/EN with PCA') \n",
        "pyplot.show()"
      ],
      "execution_count": 27,
      "outputs": [
        {
          "output_type": "display_data",
          "data": {
            "image/png": "[encoded data removed]",
            "text/plain": [
              "<Figure size 432x288 with 1 Axes>"
            ]
          },
          "metadata": {
            "tags": [],
            "needs_background": "light"
          }
        },
        {
          "output_type": "display_data",
          "data": {
            "image/png": "[encoded data removed]",
            "text/plain": [
              "<Figure size 432x288 with 1 Axes>"
            ]
          },
          "metadata": {
            "tags": [],
            "needs_background": "light"
          }
        }
      ]
    },
    {
      "cell_type": "markdown",
      "metadata": {
        "id": "5xrn9W_ZV34x"
      },
      "source": [
        "Nous avons projeté notre jeu de données modifié par l'ACP sur les prédiction faites par notre modèle. Nous distinguons encore mieux la scission entre les deux groupes de données appartenant d'une part à la langue française et de l'autre à la langue espagnol. La regression linéraire revient à chercher la droite noir sur notre graphe qui est orthogonal au plan séparateur des classes. L'ACP nous a donc permis de créer un nouveau jeu de données ayant des variables permettant de mieux distinguer l'appartenance des données à une classe ce qui permet d'accélérer l'apprentissage de notre modèle. "
      ]
    },
    {
      "cell_type": "markdown",
      "metadata": {
        "id": "mNE7oMGSg4xO"
      },
      "source": [
        "# Troisième Question:\n",
        "* Modifier la taille des données extraites (BlockSz) afin de trouver une taille à partir de la quelle un taux d'erreur de l'ordre de 10% est observée\n",
        "* Avec cette taille de block comparer les méthodes de classification précédentes (avec et sans réduction de dimentionalité)"
      ]
    },
    {
      "cell_type": "markdown",
      "metadata": {
        "id": "mFATFO2JYayl"
      },
      "source": [
        "Nous allons modifier la taille des données extraites afin de voir son impact sur la performance de nos modèle. Nous réalisons ces test pour des tailles de block de 20, 50, 100 et 150. Dans un premier temps nous réalisons les tests sans faire d'ACP puis nous réalisons les même tests en faisant une ACP ne prenant en compte que 2 variables. Ces tests sont réalisé pour les modèles Lasso et Ridge.   "
      ]
    },
    {
      "cell_type": "code",
      "metadata": {
        "id": "3I3TifzZg4xO",
        "outputId": "053d6b08-fc87-48e9-98ff-7e73564505bf"
      },
      "source": [
        "load=[\"20\", \"50\", \"100\", \"150\"]\n",
        "for i in range(len(load)):\n",
        "    print(\"///////////\"+load[i]+\" Blocks SANS PCA ////////////////\")\n",
        "    #FeaEN = np.load(\"./FeaEN\"+load[i]+'.npy')\n",
        "    FeaFR = np.load(\"./FeaFR\"+load[i]+'.npy')\n",
        "    #FeaDE = np.load(\"./FeaDE\"+load[i]+'.npy')\n",
        "    FeaES = np.load(\"./FeaES\"+load[i]+'.npy')\n",
        "    X, y = feaDatasetsPrep(FeaFR, FeaES)\n",
        "    FeaFR=0\n",
        "    FeaES=0\n",
        "    alpha = 3.35981829e-03\n",
        "    lasso = mon_Lasso(X, y, alpha)\n",
        "    X, y = 0, 0 \n",
        "    lasso = 0\n"
      ],
      "execution_count": null,
      "outputs": [
        {
          "output_type": "stream",
          "text": [
            "///////////20 Blocks SANS PCA ////////////////\n",
            "/////// LASSO alpha=0.00335981829///////\n",
            "Lasso Train accuracy: 93.28823920641884\n",
            "Lasso Test accuracy: 93.22109376122276\n",
            "Lasso Average precision-recall score: 0.90\n",
            "Lasso Confusion Matrix Train: \n",
            "[[0.93493562 0.06506438]\n",
            " [0.06927768 0.93072232]]\n",
            "Lasso Confusion Matrix Test: \n",
            "[[0.93438523 0.06561477]\n",
            " [0.07006304 0.92993696]]\n",
            "ExecTime:  9.418564500000002\n",
            "\n",
            "\n",
            "\n",
            "///////////50 Blocks SANS PCA ////////////////\n",
            "/////// LASSO alpha=0.00335981829///////\n",
            "Lasso Train accuracy: 98.87765661068217\n",
            "Lasso Test accuracy: 98.9621116897109\n",
            "Lasso Average precision-recall score: 0.98\n",
            "Lasso Confusion Matrix Train: \n",
            "[[0.98723073 0.01276927]\n",
            " [0.00960703 0.99039297]]\n",
            "Lasso Confusion Matrix Test: \n",
            "[[0.98868755 0.01131245]\n",
            " [0.00939037 0.99060963]]\n",
            "ExecTime:  3.9153101000001698\n",
            "\n",
            "\n",
            "\n",
            "///////////100 Blocks SANS PCA ////////////////\n",
            "/////// LASSO alpha=0.00335981829///////\n",
            "Lasso Train accuracy: 99.80719225938832\n",
            "Lasso Test accuracy: 99.85634763871431\n",
            "Lasso Average precision-recall score: 1.00\n",
            "Lasso Confusion Matrix Train: \n",
            "[[0.99806703 0.00193297]\n",
            " [0.00192294 0.99807706]]\n",
            "Lasso Confusion Matrix Test: \n",
            "[[0.99845582 0.00154418]\n",
            " [0.00132372 0.99867628]]\n",
            "ExecTime:  2.279507199999898\n",
            "\n",
            "\n",
            "\n",
            "///////////150 Blocks SANS PCA ////////////////\n",
            "/////// LASSO alpha=0.00335981829///////\n",
            "Lasso Train accuracy: 99.94162598174485\n",
            "Lasso Test accuracy: 99.94613229907347\n",
            "Lasso Average precision-recall score: 1.00\n",
            "Lasso Confusion Matrix Train: \n",
            "[[9.99586542e-01 4.13458060e-04]\n",
            " [7.63400404e-04 9.99236600e-01]]\n",
            "Lasso Confusion Matrix Test: \n",
            "[[9.99788651e-01 2.11349466e-04]\n",
            " [8.79024283e-04 9.99120976e-01]]\n",
            "ExecTime:  1.9917623999999705\n",
            "\n",
            "\n",
            "\n"
          ],
          "name": "stdout"
        }
      ]
    },
    {
      "cell_type": "markdown",
      "metadata": {
        "id": "0PTPW3z-ZVTe"
      },
      "source": [
        "Pour le modèle sans ACP nous pouvons constater une diminution de l'accuracy lorsque l'on diminue la taille de block. Le fait de diminuer la taille des block va accroitre le nombre d'échantillons sur lequels nous entrainons le modèle mais ceux-ci comprendrons moins d'informations i.e les patterns qui devraient se retrouver dans une langue seront alors plus difficiles à identifier pour le modèle. "
      ]
    },
    {
      "cell_type": "code",
      "metadata": {
        "id": "SGTE3dwHg4xO",
        "outputId": "ef8003f7-64ea-4e55-c73b-c29bd05bc7e0"
      },
      "source": [
        "load=[\"20\", \"50\", \"100\", \"150\"]\n",
        "for i in range(len(load)):\n",
        "    print(\"///////////\"+load[i]+\" Blocks AVEC 2 composantes PCA ////////////////\")\n",
        "    #FeaEN = np.load(\"./FeaEN\"+load[i]+'.npy')\n",
        "    FeaFR = np.load(\"./FeaFR\"+load[i]+'.npy')\n",
        "    #FeaDE = np.load(\"./FeaDE\"+load[i]+'.npy')\n",
        "    FeaES = np.load(\"./FeaES\"+load[i]+'.npy')\n",
        "    X, y = feaDatasetsPrep(FeaFR, FeaES)\n",
        "    FeaFR=0\n",
        "    FeaES=0\n",
        "    pca = PCA(n_components = 2)    \n",
        "    X_pca = pca.fit_transform(X)   \n",
        "    alpha = 3.35981829e-03\n",
        "    lasso = mon_Lasso(X_pca, y, alpha)\n",
        "    X, y = 0, 0\n",
        "    X_pca = 0\n",
        "    lasso = 0"
      ],
      "execution_count": null,
      "outputs": [
        {
          "output_type": "stream",
          "text": [
            "///////////20 Blocks AVEC 2 composantes PCA ////////////////\n",
            "/////// LASSO alpha=0.00335981829///////\n",
            "Lasso Train accuracy: 68.31300324055076\n",
            "Lasso Test accuracy: 68.43549337049114\n",
            "Lasso Average precision-recall score: 0.60\n",
            "Lasso Confusion Matrix Train: \n",
            "[[0.70504009 0.29495991]\n",
            " [0.33992015 0.66007985]]\n",
            "Lasso Confusion Matrix Test: \n",
            "[[0.70632122 0.29367878]\n",
            " [0.33861843 0.66138157]]\n",
            "ExecTime:  0.00920670000004975\n",
            "\n",
            "\n",
            "\n",
            "///////////50 Blocks AVEC 2 composantes PCA ////////////////\n",
            "/////// LASSO alpha=0.00335981829///////\n",
            "Lasso Train accuracy: 84.88949030221019\n",
            "Lasso Test accuracy: 85.12300233435087\n",
            "Lasso Average precision-recall score: 0.80\n",
            "Lasso Confusion Matrix Train: \n",
            "[[0.84104161 0.15895839]\n",
            " [0.14289333 0.85710667]]\n",
            "Lasso Confusion Matrix Test: \n",
            "[[0.84298733 0.15701267]\n",
            " [0.14004215 0.85995785]]\n",
            "ExecTime:  0.004707300000063697\n",
            "\n",
            "\n",
            "\n",
            "///////////100 Blocks AVEC 2 composantes PCA ////////////////\n",
            "/////// LASSO alpha=0.00335981829///////\n",
            "Lasso Train accuracy: 95.24879274052324\n",
            "Lasso Test accuracy: 95.1589154246723\n",
            "Lasso Average precision-recall score: 0.93\n",
            "Lasso Confusion Matrix Train: \n",
            "[[0.94308101 0.05691899]\n",
            " [0.03762427 0.96237573]]\n",
            "Lasso Confusion Matrix Test: \n",
            "[[0.94195269 0.05804731]\n",
            " [0.03831446 0.96168554]]\n",
            "ExecTime:  0.0020268000002943154\n",
            "\n",
            "\n",
            "\n",
            "///////////150 Blocks AVEC 2 composantes PCA ////////////////\n",
            "/////// LASSO alpha=0.00335981829///////\n",
            "Lasso Train accuracy: 98.0842708554447\n",
            "Lasso Test accuracy: 98.00150829562594\n",
            "Lasso Average precision-recall score: 0.97\n",
            "Lasso Confusion Matrix Train: \n",
            "[[0.97488242 0.02511758]\n",
            " [0.01286875 0.98713125]]\n",
            "Lasso Confusion Matrix Test: \n",
            "[[0.97241889 0.02758111]\n",
            " [0.01208658 0.98791342]]\n",
            "ExecTime:  0.0018878000000768225\n",
            "\n",
            "\n",
            "\n"
          ],
          "name": "stdout"
        }
      ]
    },
    {
      "cell_type": "markdown",
      "metadata": {
        "id": "pqMA166qbrRy"
      },
      "source": [
        "Le fait d'utiliser l'ACP nous permet d'accélérer le temps d'exécution mais nous entrainons le modèle que sur deux variables qui n'explique que 20% du jeu de donnée. Nous perdons donc beaucoup d'information lorsque nous réduisons en plus la taille de block. Cela explique le faible score d'accuracy pour le modèle pour une taille de block de 20."
      ]
    },
    {
      "cell_type": "code",
      "metadata": {
        "id": "EDGRIj3qg4xO",
        "outputId": "0489ccdb-7f94-4df0-afff-2bdcfbd2a1aa"
      },
      "source": [
        "load=[\"20\", \"50\", \"100\", \"150\"]\n",
        "for i in range(len(load)):\n",
        "    print(\"///////////\"+load[i]+\" Blocks SANS PCA ////////////////\")\n",
        "    #FeaEN = np.load(\"./FeaEN\"+load[i]+'.npy')\n",
        "    FeaFR = np.load(\"./FeaFR\"+load[i]+'.npy')\n",
        "    #FeaDE = np.load(\"./FeaDE\"+load[i]+'.npy')\n",
        "    FeaES = np.load(\"./FeaES\"+load[i]+'.npy')\n",
        "    X, y = feaDatasetsPrep(FeaFR, FeaES)\n",
        "    FeaFR=0\n",
        "    FeaES=0\n",
        "    alpha = 1e-10\n",
        "    lasso = mon_Ridge(X, y, alpha)\n",
        "    X, y = 0, 0 \n",
        "    lasso = 0\n"
      ],
      "execution_count": null,
      "outputs": [
        {
          "output_type": "stream",
          "text": [
            "///////////20 Blocks SANS PCA ////////////////\n",
            "/////// RIDGE alpha=1e-10///////\n",
            "Ridge Train accuracy: 96.00485375068986\n",
            "Ridge Test accuracy: 96.0266042262221\n",
            "Ridge Average precision-recall score: 0.94\n",
            "Ridge Confusion Matrix Train: \n",
            "[[0.96329648 0.03670352]\n",
            " [0.04336842 0.95663158]]\n",
            "Ridge Confusion Matrix Test: \n",
            "[[0.96419991 0.03580009]\n",
            " [0.04384818 0.95615182]]\n",
            "ExecTime:  27.0450557\n",
            "\n",
            "\n",
            "\n",
            "///////////50 Blocks SANS PCA ////////////////\n",
            "/////// RIDGE alpha=1e-10///////\n"
          ],
          "name": "stdout"
        },
        {
          "output_type": "stream",
          "text": [
            "D:\\ProgramData\\Anaconda3\\lib\\site-packages\\sklearn\\linear_model\\_ridge.py:147: LinAlgWarning: Ill-conditioned matrix (rcond=2.21821e-17): result may not be accurate.\n",
            "  return linalg.solve(A, Xy, sym_pos=True,\n"
          ],
          "name": "stderr"
        },
        {
          "output_type": "stream",
          "text": [
            "Ridge Train accuracy: 99.53921126411774\n",
            "Ridge Test accuracy: 99.50619500808044\n",
            "Ridge Average precision-recall score: 0.99\n",
            "Ridge Confusion Matrix Train: \n",
            "[[0.99550134 0.00449866]\n",
            " [0.0047221  0.9952779 ]]\n",
            "Ridge Confusion Matrix Test: \n",
            "[[0.99493733 0.00506267]\n",
            " [0.00480609 0.99519391]]\n",
            "ExecTime:  2.013861300000002\n",
            "\n",
            "\n",
            "\n",
            "///////////100 Blocks SANS PCA ////////////////\n",
            "/////// RIDGE alpha=1e-10///////\n",
            "Ridge Train accuracy: 99.93455150089329\n",
            "Ridge Test accuracy: 99.92458251032501\n",
            "Ridge Average precision-recall score: 1.00\n",
            "Ridge Confusion Matrix Train: \n",
            "[[9.99482241e-01 5.17759138e-04]\n",
            " [7.98200421e-04 9.99201800e-01]]\n",
            "Ridge Confusion Matrix Test: \n",
            "[[9.99227908e-01 7.72092370e-04]\n",
            " [7.35402265e-04 9.99264598e-01]]\n",
            "ExecTime:  4.721075800000001\n",
            "\n",
            "\n",
            "\n",
            "///////////150 Blocks SANS PCA ////////////////\n",
            "/////// RIDGE alpha=1e-10///////\n"
          ],
          "name": "stdout"
        },
        {
          "output_type": "stream",
          "text": [
            "D:\\ProgramData\\Anaconda3\\lib\\site-packages\\sklearn\\linear_model\\_ridge.py:147: LinAlgWarning: Ill-conditioned matrix (rcond=7.42635e-18): result may not be accurate.\n",
            "  return linalg.solve(A, Xy, sym_pos=True,\n"
          ],
          "name": "stderr"
        },
        {
          "output_type": "stream",
          "text": [
            "Ridge Train accuracy: 99.981426448737\n",
            "Ridge Test accuracy: 99.97845291962939\n",
            "Ridge Average precision-recall score: 1.00\n",
            "Ridge Confusion Matrix Train: \n",
            "[[9.99896635e-01 1.03364515e-04]\n",
            " [2.72643001e-04 9.99727357e-01]]\n",
            "Ridge Confusion Matrix Test: \n",
            "[[1.00000000e+00 0.00000000e+00]\n",
            " [4.39512142e-04 9.99560488e-01]]\n",
            "ExecTime:  0.6283814000000021\n",
            "\n",
            "\n",
            "\n"
          ],
          "name": "stdout"
        }
      ]
    },
    {
      "cell_type": "markdown",
      "metadata": {
        "id": "pFX1VAp7cWjE"
      },
      "source": [
        "Comme nous avons pu le constater avant le modèle Ridge à de meilleur performance que le modèle Lasso cependant celui-ci perd aussi en performance lorsque la taille des blocks diminue. "
      ]
    },
    {
      "cell_type": "code",
      "metadata": {
        "id": "SllbgEo-g4xP",
        "outputId": "4d6b2036-a713-4f9a-8523-826658aba6e0"
      },
      "source": [
        "load=[\"20\", \"50\", \"100\", \"150\"]\n",
        "for i in range(len(load)):\n",
        "    print(\"///////////\"+load[i]+\" Blocks AVEC 2 composantes PCA ////////////////\")\n",
        "    #FeaEN = np.load(\"./FeaEN\"+load[i]+'.npy')\n",
        "    FeaFR = np.load(\"./FeaFR\"+load[i]+'.npy')\n",
        "    #FeaDE = np.load(\"./FeaDE\"+load[i]+'.npy')\n",
        "    FeaES = np.load(\"./FeaES\"+load[i]+'.npy')\n",
        "    X, y = feaDatasetsPrep(FeaFR, FeaES)\n",
        "    FeaFR=0\n",
        "    FeaES=0\n",
        "    pca = PCA(n_components = 2)    \n",
        "    X_pca = pca.fit_transform(X)   \n",
        "    alpha = 1e-10\n",
        "    lasso = mon_Ridge(X_pca, y, alpha)\n",
        "    X, y = 0, 0\n",
        "    X_pca = 0\n",
        "    lasso = 0"
      ],
      "execution_count": null,
      "outputs": [
        {
          "output_type": "stream",
          "text": [
            "///////////20 Blocks AVEC 2 composantes PCA ////////////////\n",
            "/////// RIDGE alpha=1e-10///////\n",
            "Ridge Train accuracy: 68.31689473162862\n",
            "Ridge Test accuracy: 68.43836639708101\n",
            "Ridge Average precision-recall score: 0.60\n",
            "Ridge Confusion Matrix Train: \n",
            "[[0.70474337 0.29525663]\n",
            " [0.33952813 0.66047187]]\n",
            "Ridge Confusion Matrix Test: \n",
            "[[0.70604021 0.29395979]\n",
            " [0.33826576 0.66173424]]\n",
            "ExecTime:  0.10255719999999258\n",
            "\n",
            "\n",
            "\n",
            "///////////50 Blocks AVEC 2 composantes PCA ////////////////\n",
            "/////// RIDGE alpha=1e-10///////\n",
            "Ridge Train accuracy: 84.90098790982337\n",
            "Ridge Test accuracy: 85.12300233435087\n",
            "Ridge Average precision-recall score: 0.80\n",
            "Ridge Confusion Matrix Train: \n",
            "[[0.84102431 0.15897569]\n",
            " [0.14264003 0.85735997]]\n",
            "Ridge Confusion Matrix Test: \n",
            "[[0.84302224 0.15697776]\n",
            " [0.14007912 0.85992088]]\n",
            "ExecTime:  0.03647629999998969\n",
            "\n",
            "\n",
            "\n",
            "///////////100 Blocks AVEC 2 composantes PCA ////////////////\n",
            "/////// RIDGE alpha=1e-10///////\n",
            "Ridge Train accuracy: 95.26825040241982\n",
            "Ridge Test accuracy: 95.15532411564016\n",
            "Ridge Average precision-recall score: 0.93\n",
            "Ridge Confusion Matrix Train: \n",
            "[[0.94335715 0.05664285]\n",
            " [0.03751542 0.96248458]]\n",
            "Ridge Confusion Matrix Test: \n",
            "[[0.94195269 0.05804731]\n",
            " [0.038388   0.961612  ]]\n",
            "ExecTime:  0.01812339999999324\n",
            "\n",
            "\n",
            "\n",
            "///////////150 Blocks AVEC 2 composantes PCA ////////////////\n",
            "/////// RIDGE alpha=1e-10///////\n",
            "Ridge Train accuracy: 98.08161749097856\n",
            "Ridge Test accuracy: 98.01228183581124\n",
            "Ridge Average precision-recall score: 0.97\n",
            "Ridge Confusion Matrix Train: \n",
            "[[0.97483074 0.02516926]\n",
            " [0.01286875 0.98713125]]\n",
            "Ridge Confusion Matrix Test: \n",
            "[[0.97263024 0.02736976]\n",
            " [0.01208658 0.98791342]]\n",
            "ExecTime:  0.01179279999999494\n",
            "\n",
            "\n",
            "\n"
          ],
          "name": "stdout"
        }
      ]
    },
    {
      "cell_type": "markdown",
      "metadata": {
        "id": "AAI8fuCOcx3g"
      },
      "source": [
        "Nous n'avons pas réussis à avoir 10% d'érreurs même avec les modèles les moins performant et pour des langues les plus difficilement différenciables. Même en déscendant à 20 block nous obtenons une 7% d'erreurs pour Lasso et 4% pour Ridge sans ACP. Le fait de n'utiliser que deux composantes avec l'ACP diminue grandement la performance des modèles, cela est du à la perte d'information lorsque de la transformation des données. "
      ]
    },
    {
      "cell_type": "markdown",
      "metadata": {
        "id": "1Q2qIZ_3g4xP"
      },
      "source": [
        "# Quatrième Question:\n",
        "* Réaliser une classification binaire en utilisant les SVM à noyau (comparer les performances obtenus avec un noyau Gaussien (rbf) et un noyau polynomial"
      ]
    },
    {
      "cell_type": "markdown",
      "metadata": {
        "id": "0APcUftDdpUR"
      },
      "source": [
        "Nous avons réalisé jusqu'à maintenant des classification basé sur des méthodes linéaires. Nous allons voir dans la suite les méthodes non linéaires reposant sur l'astuce du noyau. Celle-ci consiste à transformer les données en utilisant une fonction non-linéaire qui va engendrer un espace de plus grande dimension afin de les rendre linéairements séparables dans ce nouvel espace. Nous allons utiliser le modèle de SVM avec un noyau gaussien et polynomial.\r\n",
        "\r\n",
        "Nous commençons par réaliser des classifieurs non linéaire sans validation croisé. "
      ]
    },
    {
      "cell_type": "code",
      "metadata": {
        "id": "Jr9DIlDBg4xP"
      },
      "source": [
        "X, y = feaDatasetsPrep(FeaFR, FeaES)"
      ],
      "execution_count": null,
      "outputs": []
    },
    {
      "cell_type": "code",
      "metadata": {
        "id": "tLDDX0sBg4xP",
        "outputId": "2055585b-e10a-4e1b-b42e-f82f8ab3b2b9"
      },
      "source": [
        "svm = mon_SVM(X, y, \"rbf\", C=1) # SVM avec noyau gaussien"
      ],
      "execution_count": null,
      "outputs": [
        {
          "output_type": "stream",
          "text": [
            "/////// SVM C=1 kernel=rbf///////\n",
            "SVM rbf Train accuracy: 99.94693364937294\n",
            "SVM rbf Test accuracy: 99.93535643742145\n",
            "SVM rbf Average precision-recall score: 1.00\n",
            "SVM rbf Confusion Matrix Train: \n",
            "[[9.99620310e-01 3.79690035e-04]\n",
            " [6.89354909e-04 9.99310645e-01]]\n",
            "SVM rbf Confusion Matrix Test: \n",
            "[[9.99649049e-01 3.50951077e-04]\n",
            " [9.56022945e-04 9.99043977e-01]]\n",
            "ExecTime:  57.73285589999978\n",
            "\n",
            "\n",
            "\n"
          ],
          "name": "stdout"
        }
      ]
    },
    {
      "cell_type": "code",
      "metadata": {
        "id": "wOpGa6EQg4xP",
        "outputId": "222051a0-0032-4b8f-8948-52b9e4aed269"
      },
      "source": [
        "svm = mon_SVM(X, y, \"poly\", C=1) # SVM avec noyau polynomial"
      ],
      "execution_count": null,
      "outputs": [
        {
          "output_type": "stream",
          "text": [
            "/////// SVM C=1 kernel=poly///////\n",
            "SVM poly Train accuracy: 99.95931579785258\n",
            "SVM poly Test accuracy: 99.94613036451787\n",
            "SVM poly Average precision-recall score: 1.00\n",
            "SVM poly Confusion Matrix Train: \n",
            "[[9.99723862e-01 2.76138207e-04]\n",
            " [5.44227560e-04 9.99455772e-01]]\n",
            "SVM poly Confusion Matrix Test: \n",
            "[[9.99719239e-01 2.80760862e-04]\n",
            " [8.08942492e-04 9.99191058e-01]]\n",
            "ExecTime:  45.359973500000706\n",
            "\n",
            "\n",
            "\n"
          ],
          "name": "stdout"
        }
      ]
    },
    {
      "cell_type": "markdown",
      "metadata": {
        "id": "DfiZuFtzf3Cv"
      },
      "source": [
        "Les scores d'accuracy sont quasi-similaire néanmoins nous pouvons constater une meilleur performance pour la SVM avec noyau polynomial qui à un temps d'exécution plus faible et un score d'accuracy légérement plus élevé par rapport à la SVM avec noyau gaussien."
      ]
    },
    {
      "cell_type": "markdown",
      "metadata": {
        "id": "0JWeMtB6g4xP"
      },
      "source": [
        "Regardons maintenant nos modèles avec la validation croisé."
      ]
    },
    {
      "cell_type": "code",
      "metadata": {
        "id": "4VsLgU5ig4xQ",
        "outputId": "7a246704-b263-4a89-cd8e-aa4e86a4f46a"
      },
      "source": [
        "# Ici on applique un Kfold de 5 sections avec un SVM et un paramètre C = 1\n",
        "kfold = KFold(n_splits=5)\n",
        "model_SVM_rbf = SVC(kernel = 'rbf', C = 1).fit(X_train, y_train) \n",
        "result = cross_val_score(model_SVM_rbf, X, y, cv=kfold)\n",
        "print(result)\n",
        "print(\"Accuracy: \", result.mean()*100)"
      ],
      "execution_count": null,
      "outputs": [
        {
          "output_type": "stream",
          "text": [
            "[0.99525954 0.99887414 0.99922968 0.96053333 0.99934815]\n",
            "Accuracy:  99.06489675454073\n"
          ],
          "name": "stdout"
        }
      ]
    },
    {
      "cell_type": "code",
      "metadata": {
        "id": "tdzva7F0g4xQ",
        "outputId": "31dee66d-bf03-4674-9e68-0aba18a96271"
      },
      "source": [
        "# On affiche la matrice de confusion pour le jeux de test.   \n",
        "accuracy = model_SVM_rbf.score(X_test, y_test) \n",
        "plot_confusion_matrix(model_SVM_rbf, X_test, y_test)  \n",
        "plt.show()  "
      ],
      "execution_count": null,
      "outputs": [
        {
          "output_type": "display_data",
          "data": {
            "image/png": "[encoded data removed]",
            "text/plain": [
              "<Figure size 432x288 with 2 Axes>"
            ]
          },
          "metadata": {
            "tags": [],
            "needs_background": "light"
          }
        }
      ]
    },
    {
      "cell_type": "markdown",
      "metadata": {
        "id": "y95hGRDKhPsX"
      },
      "source": [
        "Le fait de rajouté une étape de validation croisé à fait que la valeur du score d'accuracy a diminué de prés de 1% cependant le modèle reste bon, celui-ci ne faisant que 18 erreurs d'aprés la matrice de confusion. Il est important de faire une validation croisé dans le cas des modèles avec noyaux non-linéaires car ils ont tendance à overfitter. La validation croisé est donc un outil précieu dans ce cas qui permet d'éviter ce risque. "
      ]
    },
    {
      "cell_type": "code",
      "metadata": {
        "id": "PEwJA92Mg4xQ",
        "outputId": "0e893a07-6327-47aa-e217-05707b966287"
      },
      "source": [
        "#Ici on applique un Kfold de 5 sections avec un SVM C = 1\n",
        "# Le modèle est très bon mais avec une accuracy légèrement infèrieur. \n",
        "kfold = KFold(n_splits=5)\n",
        "model_SVM_poly = SVC(kernel = 'poly', C = 1).fit(X_train, y_train) \n",
        "result = cross_val_score(model_SVM_poly, X, y, cv=kfold)\n",
        "print(result)\n",
        "print(\"Accuracy: \", result.mean()*100)\n",
        "\n",
        "# on affiche la matrice de confusion pour le jeu de test\n",
        "\n",
        "accuracy = model_SVM_poly.score(X_test, y_test) \n",
        "plot_confusion_matrix(model_SVM_poly, X_test, y_test)  \n",
        "plt.show()  "
      ],
      "execution_count": null,
      "outputs": [
        {
          "output_type": "stream",
          "text": [
            "[0.99520028 0.99899265 0.99911116 0.95792593 0.99899259]\n",
            "Accuracy:  99.00445238032533\n"
          ],
          "name": "stdout"
        },
        {
          "output_type": "display_data",
          "data": {
            "image/png": "[encoded data removed]",
            "text/plain": [
              "<Figure size 432x288 with 2 Axes>"
            ]
          },
          "metadata": {
            "tags": [],
            "needs_background": "light"
          }
        }
      ]
    },
    {
      "cell_type": "markdown",
      "metadata": {
        "id": "YXKO1xaXipJl"
      },
      "source": [
        "Non voyons que le noyau polynomial dans notre cas reste plus performant avec 15 erreurs commisent. L'accuracy a aussi diminué de prés de 1%. On peut donc considéré que l'on a réduit le risque d'overfitting, même si celui-ci était trés faible à la base."
      ]
    },
    {
      "cell_type": "markdown",
      "metadata": {
        "id": "9Gd0xA-hg4xQ"
      },
      "source": [
        "Nous constatons que les modèles sont très long à éxécuter et ne font pas beaucoup mieux que nos modèles Ridge et LASSO optimisé précédemment. Nous allons essayer de diminuer le temps d'exécution à l'aide d'une ACP."
      ]
    },
    {
      "cell_type": "markdown",
      "metadata": {
        "id": "zpuIrXSTg4xQ"
      },
      "source": [
        "Faisons les test avec l'ACP."
      ]
    },
    {
      "cell_type": "code",
      "metadata": {
        "id": "Na2gsejqg4xQ",
        "outputId": "fb5514f6-3c9d-4cc9-cb3f-c8d2db040254"
      },
      "source": [
        "#Nous faisons une ACP avec 20 composantes.\n",
        "pca = PCA(n_components = 20)\n",
        "X_pca = pca.fit_transform(X) \n",
        "explained_variance = pca.explained_variance_ratio_ \n",
        "print(explained_variance)"
      ],
      "execution_count": null,
      "outputs": [
        {
          "output_type": "stream",
          "text": [
            "[0.0970513  0.07608765 0.05870724 0.04865259 0.04367777 0.03826009\n",
            " 0.03577833 0.03427951 0.02707555 0.02431742 0.02044419 0.01617463\n",
            " 0.01487888 0.01381997 0.01254038 0.01150474 0.01102739 0.01034916\n",
            " 0.00947076 0.0094378 ]\n"
          ],
          "name": "stdout"
        }
      ]
    },
    {
      "cell_type": "code",
      "metadata": {
        "id": "4VMOjyVbg4xR",
        "outputId": "4c58bc77-4a63-40c3-b17d-706d8cd53428"
      },
      "source": [
        "svm = mon_SVM(X_pca, y, \"rbf\", C=1)"
      ],
      "execution_count": null,
      "outputs": [
        {
          "output_type": "stream",
          "text": [
            "/////// SVM C=1 kernel=rbf///////\n",
            "SVM rbf Train accuracy: 54.97996960906203\n",
            "SVM rbf Test accuracy: 39.889216098723885\n",
            "SVM rbf Average precision-recall score: 0.44\n",
            "SVM rbf Confusion Matrix Train: \n",
            "[[0.56798676 0.43201324]\n",
            " [0.46845912 0.53154088]]\n",
            "SVM rbf Confusion Matrix Test: \n",
            "[[0.4155579 0.5844421]\n",
            " [0.6176409 0.3823591]]\n",
            "ExecTime:  171.78849880000007\n",
            "\n",
            "\n",
            "\n"
          ],
          "name": "stdout"
        }
      ]
    },
    {
      "cell_type": "code",
      "metadata": {
        "id": "ZJdD_Zk8g4xR",
        "outputId": "381f2fcf-b38a-4e22-f8dd-098df8a92a2a"
      },
      "source": [
        "svm = mon_SVM(X_pca, y, \"poly\", C=1)"
      ],
      "execution_count": null,
      "outputs": [
        {
          "output_type": "stream",
          "text": [
            "/////// SVM C=1 kernel=poly///////\n",
            "SVM poly Train accuracy: 53.379265091863516\n",
            "SVM poly Test accuracy: 43.13911092413406\n",
            "SVM poly Average precision-recall score: 0.44\n",
            "SVM poly Confusion Matrix Train: \n",
            "[[0.56498811 0.43501189]\n",
            " [0.49752587 0.50247413]]\n",
            "SVM poly Confusion Matrix Test: \n",
            "[[0.45899331 0.54100669]\n",
            " [0.59599134 0.40400866]]\n",
            "ExecTime:  165.52931639999997\n",
            "\n",
            "\n",
            "\n"
          ],
          "name": "stdout"
        }
      ]
    },
    {
      "cell_type": "code",
      "metadata": {
        "id": "mTU-bPONg4xR",
        "outputId": "44f976d1-4c6a-4614-9ee8-55a62edb5dc7"
      },
      "source": [
        "svm = mon_SVM(X_pca, y, \"linear\", C=1)\n",
        "svm=0"
      ],
      "execution_count": null,
      "outputs": [
        {
          "output_type": "stream",
          "text": [
            "/////// SVM C=1 kernel=linear///////\n",
            "SVM linear Train accuracy: 50.26937422295897\n",
            "SVM linear Test accuracy: 49.45309213294068\n",
            "SVM linear Average precision-recall score: 0.42\n",
            "SVM linear Confusion Matrix Train: \n",
            "[[0.58366939 0.41633061]\n",
            " [0.57860134 0.42139866]]\n",
            "SVM linear Confusion Matrix Test: \n",
            "[[0.57648715 0.42351285]\n",
            " [0.58677282 0.41322718]]\n",
            "ExecTime:  925.0810526999999\n",
            "\n",
            "\n",
            "\n"
          ],
          "name": "stdout"
        }
      ]
    },
    {
      "cell_type": "markdown",
      "metadata": {
        "id": "zSvbqTAKg4xR"
      },
      "source": [
        "On peut voir ici qu'avec la reduction en dimension les noyaux les modèles donne de trés mauvaise prédiction et sont trés peu précis. Cela peut ce comprendre car nous avons diminuer les données afin que les nouvelles variables soient linéairement séparables avec l'ACP alors que la SVM au contraire va essayer d'augmenter la dimension de façon non linéaire, cela va complétement faussé le nouveaux jeu de variables ainsi créé par le noyau. Il faudrait utiliser une méthode de réduction des caractéristiques non-linéaires KPCA, ce que nous ne ferons pas ici."
      ]
    },
    {
      "cell_type": "markdown",
      "metadata": {
        "id": "C49iNITHg4xV"
      },
      "source": [
        "# Ciquième Question:\n",
        "* Sur la base des résultats précédents, quelle est la méthode linéaire la plus adaptée à ce problème de classification\n"
      ]
    },
    {
      "cell_type": "markdown",
      "metadata": {
        "id": "oWktE9kPg4xV"
      },
      "source": [
        "Le modèle RIDGE est pour moi le plus performant et rapide sans optimisation. Nous expliquons cela par le fait que l'on a observé qu'avec une bonne valeur d'alpha, une pca à 20 composantes et des blocks de taille 150 on avait le meilleur ratio Accuracy/Temps d'execution.\n",
        "\n",
        "Temps d'execution < 0.5s\n",
        "Accuracy: 99%"
      ]
    },
    {
      "cell_type": "markdown",
      "metadata": {
        "id": "Oqdh7unNg4xV"
      },
      "source": [
        "# Dernière Question:\n",
        "* Enfin, mettre en place une méthode (de votre choix) de classification multi-classe;\n",
        "* Donner la matrice de confusion et indiquer les languages les plus difficile à distinguer."
      ]
    },
    {
      "cell_type": "markdown",
      "metadata": {
        "id": "IR3r5c-vnoRQ"
      },
      "source": [
        "Nous allons utiliser deux modèles de classification multi-classe afin de distinguer les languages les plus difficiles à distinguer. Le premier est un arbre de décision et le deuxième est une SVM avec noyau linéaire."
      ]
    },
    {
      "cell_type": "code",
      "metadata": {
        "id": "EwuNDo_Ag4xV"
      },
      "source": [
        "# création du jeu de donnée à partir des 4 différentes langues\n",
        "\n",
        "y_1 = np.full(FeaEN.shape[0], 0)\n",
        "y_2 = np.full(FeaFR.shape[0], 1)\n",
        "y_3 = np.full(FeaDE.shape[0], 2)\n",
        "y_4 = np.full(FeaES.shape[0], 3)\n",
        "X = np.concatenate((FeaEN, FeaFR, FeaDE, FeaES), axis=0)\n",
        "y = np.concatenate((y_1, y_2, y_3, y_4), axis=0)"
      ],
      "execution_count": null,
      "outputs": []
    },
    {
      "cell_type": "code",
      "metadata": {
        "id": "avzr04tbg4xW"
      },
      "source": [
        "# On divise le jeu de donnée en une partie d'entrainement et une partie test\r\n",
        "X_train, X_test, y_train, y_test = train_test_split(X, y, test_size = 0.2, random_state = 0) "
      ],
      "execution_count": null,
      "outputs": []
    },
    {
      "cell_type": "code",
      "metadata": {
        "id": "kFUNxGfwg4xW"
      },
      "source": [
        "# Entrainement du modèle d'arbre de classification de profondeur max = 2\n",
        "dtree_model = DecisionTreeClassifier(max_depth = 2).fit(X_train, y_train) \n",
        "dtree_predictions = dtree_model.predict(X_test) # prédiction du modèle\n",
        "  \n",
        "# On créer la matrice de confusion \n",
        "cm = confusion_matrix(y_test, dtree_predictions) "
      ],
      "execution_count": null,
      "outputs": []
    },
    {
      "cell_type": "code",
      "metadata": {
        "id": "KBjo_QQ7g4xW",
        "outputId": "9e16a4d5-ecef-4889-8d87-5cd486f1e2e6"
      },
      "source": [
        "# on affiche la matrice de confusion\n",
        "plot_confusion_matrix(dtree_model, X_test, y_test)  \n",
        "plt.show()  "
      ],
      "execution_count": null,
      "outputs": [
        {
          "output_type": "display_data",
          "data": {
            "image/png": "[encoded data removed]",
            "text/plain": [
              "<Figure size 432x288 with 2 Axes>"
            ]
          },
          "metadata": {
            "tags": [],
            "needs_background": "light"
          }
        }
      ]
    },
    {
      "cell_type": "markdown",
      "metadata": {
        "id": "LaoaLoX8pI8r"
      },
      "source": [
        "On remarque d'aprés cette matrice de confusion que les languages ayant une même racine sont plus souvant confondu par le modèle. Nous remarquons aussi que le modèle a été incapable de prédire les valeurs pour le français. Tout a été faussement prédit comme étant de l'espagnol. "
      ]
    },
    {
      "cell_type": "markdown",
      "metadata": {
        "id": "lulwB573p0qP"
      },
      "source": [
        "Nous avons fait de même pour la classification multi-classe avec la SVM."
      ]
    },
    {
      "cell_type": "code",
      "metadata": {
        "id": "dIgyxRkeg4xW"
      },
      "source": [
        "# On entraine le modèle SVM avec noyau linéaire. \n",
        "\n",
        "svm_model_linear = SVC(kernel = 'linear', C = 1).fit(X_train, y_train) \n",
        "svm_predictions = svm_model_linear.predict(X_test) \n",
        "  \n",
        "# calcul de l'accuracy pour le jeu de test.\n",
        "accuracy = svm_model_linear.score(X_test, y_test) \n",
        "  \n",
        "#On créer la matrice de confusion.\n",
        "cm = confusion_matrix(y_test, svm_predictions) "
      ],
      "execution_count": null,
      "outputs": []
    },
    {
      "cell_type": "code",
      "metadata": {
        "id": "Nu_M5xtQg4xW",
        "outputId": "946cad2e-9c1a-4ab5-922f-c70c873beebf"
      },
      "source": [
        "plot_confusion_matrix(svm_model_linear, X_test, y_test)  \n",
        "plt.show()  "
      ],
      "execution_count": null,
      "outputs": [
        {
          "output_type": "display_data",
          "data": {
            "image/png": "[encoded data removed]",
            "text/plain": [
              "<Figure size 432x288 with 2 Axes>"
            ]
          },
          "metadata": {
            "tags": [],
            "needs_background": "light"
          }
        }
      ]
    },
    {
      "cell_type": "markdown",
      "metadata": {
        "id": "G02_6E8OqNy5"
      },
      "source": [
        "Le temps d'exécution est trés long. Cependant le modèle prédit correctement chaque classes et fait trés peu d'erreurs. Nous observons que pour un problème multi-classe la SVM est à privilégier même en dépit du temps d'exécution que le modèle prend."
      ]
    },
    {
      "cell_type": "markdown",
      "metadata": {
        "id": "9Sa4j-OEqzVK"
      },
      "source": [
        "# Conclusion"
      ]
    },
    {
      "cell_type": "markdown",
      "metadata": {
        "id": "zpW8H1q3q4Mi"
      },
      "source": [
        "Au cours de ce projet nous avons comparé plusieurs techniques de classifiquation appliqué sur un jeu de donnée issue de quatre langue différentes l'anglais, le français, l'allemand et l'espagnol. Nous avons utilisé les modèle Lasso, Ridge et SVM. Pour optimisé ces modèles nous avons utilisé la méthode de validation croisé afin de diminuer le risque d'overfitting et les fonctions GrirdSearch de Sklearn afin d'en déduire les meilleurs hyperparamètres. Nous avons aussi réalisé une ACP afin d'améliorer les vitesses d'exécution des différents modèles. Il en résulte que dans la cas d'une classification binaire le modèle à privilégier est le classifieur Ridge celui-ci donnant les meilleurs ratios performances/temps d'exécution. Lorsque nous avons augmenté la taille du jeu de données en diminuant la taille des blocks, le modèle Ridge est resté le modèle le plus performant. Nous avons aussi testé des modèles de SVM avec noyaux gaussien et polynomial afin de faire de la classification non-linéaire. Nous avons vu que cela n'apportait pas grand chose de plus que les modèles précédent. Enfin nous avons utilisé deux classifieur multi-classe. Nous avons vu que l'arbre de régression ne permetait pas de classer correctement chaque langue et n'arrivait pas à prédire correctement la langue française, la classant comme étant de l'espagnol. Cependant l'utilisation d'une SVM avec noyau linéaire nous a permis de classé correctement chacune de ces quatres langues avec un taux d'erreur faible."
      ]
    },
    {
      "cell_type": "code",
      "metadata": {
        "id": "VYRGwdrOt6BR"
      },
      "source": [
        ""
      ],
      "execution_count": null,
      "outputs": []
    }
  ]
}